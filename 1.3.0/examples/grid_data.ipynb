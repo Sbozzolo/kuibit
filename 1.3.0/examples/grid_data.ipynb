{
 "cells": [
  {
   "cell_type": "markdown",
   "metadata": {},
   "source": [
    "# Working with grid data\n",
    "\n",
    "In this notebook, we show some of the most useful features of the [grid_data](../grid_data.rst) module. \n",
    "\n",
    "There are three important objects in [grid_data](../grid_data.rst):\n",
    "- `UniformGrid` represents Cartesian grids,\n",
    "- `UniformGridData` represents data on `UniformGrid`,\n",
    "- `HierarchicalGridData` represents data on multiple grids with different spacings (a mesh-refined grid).\n",
    "\n",
    "In most cases you will not define these objects directly, but it is important to know how they work.\n",
    "To learn how to read the simulation data, see [working with grid funcitons](cactus_grid_functions.ipynb).\n",
    "\n",
    "(This notebook is meant to be converted in Sphinx documentation and not used directly.)"
   ]
  },
  {
   "cell_type": "code",
   "execution_count": 1,
   "metadata": {
    "execution": {
     "iopub.execute_input": "2021-02-17T15:48:25.644752Z",
     "iopub.status.busy": "2021-02-17T15:48:25.644186Z",
     "iopub.status.idle": "2021-02-17T15:48:26.201059Z",
     "shell.execute_reply": "2021-02-17T15:48:26.200326Z"
    }
   },
   "outputs": [],
   "source": [
    "import matplotlib.pyplot as plt\n",
    "import numpy as np\n",
    "from kuibit import grid_data as gd\n",
    "from kuibit import grid_data_utils as gdu\n",
    "from kuibit import series\n",
    "\n",
    "%matplotlib inline"
   ]
  },
  {
   "cell_type": "markdown",
   "metadata": {},
   "source": [
    "To generate data, we start from preparing a grid. `kuibit` follows the conventions in `Carpet` and identifies a grid with (1) the number of points along each direction, (2) the coordinate of left bottom cell, (3) the spacing or the coordinate of the top right cell.\n",
    "In addition, `UniformGrid` can contain additional information, like the number of refinement level, or the time. These grids are always cell-centered.\n",
    "\n",
    "Let us create a 2D grid: "
   ]
  },
  {
   "cell_type": "code",
   "execution_count": 2,
   "metadata": {
    "execution": {
     "iopub.execute_input": "2021-02-17T15:48:26.206237Z",
     "iopub.status.busy": "2021-02-17T15:48:26.205648Z",
     "iopub.status.idle": "2021-02-17T15:48:26.209336Z",
     "shell.execute_reply": "2021-02-17T15:48:26.208843Z"
    }
   },
   "outputs": [],
   "source": [
    "grid = gd.UniformGrid([201, 201], # Number of points\n",
    "                      x0=[-100, -100], # origin\n",
    "                      x1=[100, 100] # other corner\n",
    "                      )"
   ]
  },
  {
   "cell_type": "markdown",
   "metadata": {},
   "source": [
    "`UniformGrid` are meant to be immutable objects, and indeed there is not much that we can do with them. If we print them, we will find some interesting information."
   ]
  },
  {
   "cell_type": "code",
   "execution_count": 3,
   "metadata": {
    "execution": {
     "iopub.execute_input": "2021-02-17T15:48:26.215785Z",
     "iopub.status.busy": "2021-02-17T15:48:26.214488Z",
     "iopub.status.idle": "2021-02-17T15:48:26.218346Z",
     "shell.execute_reply": "2021-02-17T15:48:26.217810Z"
    }
   },
   "outputs": [
    {
     "name": "stdout",
     "output_type": "stream",
     "text": [
      "Shape            = [201 201]\n",
      "Num ghost zones  = [0 0]\n",
      "Ref. level       = -1\n",
      "Component        = -1\n",
      "x0               = [-100. -100.]\n",
      "x0/dx            = [-100. -100.]\n",
      "x1               = [100. 100.]\n",
      "x1/dx            = [-100. -100.]\n",
      "Volume           = 40401.0\n",
      "dx               = [1. 1.]\n",
      "Time             = None\n",
      "Iteration        = None\n",
      "\n"
     ]
    }
   ],
   "source": [
    "print(grid)"
   ]
  },
  {
   "cell_type": "markdown",
   "metadata": {},
   "source": [
    "We can obtain this (and other information) directly from `grid`, for example."
   ]
  },
  {
   "cell_type": "code",
   "execution_count": 4,
   "metadata": {
    "execution": {
     "iopub.execute_input": "2021-02-17T15:48:26.223863Z",
     "iopub.status.busy": "2021-02-17T15:48:26.222412Z",
     "iopub.status.idle": "2021-02-17T15:48:26.225808Z",
     "shell.execute_reply": "2021-02-17T15:48:26.225310Z"
    }
   },
   "outputs": [
    {
     "name": "stdout",
     "output_type": "stream",
     "text": [
      "Unit volume 1.0, number of dimensions 2\n"
     ]
    }
   ],
   "source": [
    "print(f\"Unit volume {grid.dv}, number of dimensions {grid.num_dimensions}\")"
   ]
  },
  {
   "cell_type": "markdown",
   "metadata": {},
   "source": [
    "`UniformGrid` objects can be indexed and support the `in` operator, which are quite convinent. "
   ]
  },
  {
   "cell_type": "code",
   "execution_count": 5,
   "metadata": {
    "execution": {
     "iopub.execute_input": "2021-02-17T15:48:26.231732Z",
     "iopub.status.busy": "2021-02-17T15:48:26.230290Z",
     "iopub.status.idle": "2021-02-17T15:48:26.233662Z",
     "shell.execute_reply": "2021-02-17T15:48:26.233158Z"
    }
   },
   "outputs": [
    {
     "name": "stdout",
     "output_type": "stream",
     "text": [
      "The coordinate cooresponding to the index 1, 2 is [-99. -98.]\n",
      "Is [-140, 50] in the grid?: False\n"
     ]
    }
   ],
   "source": [
    "print(f\"The coordinate cooresponding to the index 1, 2 is {grid[1,2]}\")\n",
    "print(f\"Is [-140, 50] in the grid?: {[-140, 50] in grid}\")"
   ]
  },
  {
   "cell_type": "markdown",
   "metadata": {},
   "source": [
    "Finally, one can get explicitly the coordinates with the `coordinates` method.\n",
    "This can return arrays with the coordinates along each direction (default), or can return the coordinates as a numpy meshgrid \n",
    "(if `as_meshgrid=True`), or can return a list of arrays with the same shape of the grid and the values of the coordinates (if `as_same_shape=True`).\n",
    "Let's see one example."
   ]
  },
  {
   "cell_type": "code",
   "execution_count": 6,
   "metadata": {
    "execution": {
     "iopub.execute_input": "2021-02-17T15:48:26.242397Z",
     "iopub.status.busy": "2021-02-17T15:48:26.239875Z",
     "iopub.status.idle": "2021-02-17T15:48:26.244313Z",
     "shell.execute_reply": "2021-02-17T15:48:26.243813Z"
    }
   },
   "outputs": [
    {
     "name": "stdout",
     "output_type": "stream",
     "text": [
      "[-100.  -99.  -98.  -97.  -96.  -95.  -94.  -93.  -92.  -91.  -90.  -89.\n",
      "  -88.  -87.  -86.  -85.  -84.  -83.  -82.  -81.  -80.  -79.  -78.  -77.\n",
      "  -76.  -75.  -74.  -73.  -72.  -71.  -70.  -69.  -68.  -67.  -66.  -65.\n",
      "  -64.  -63.  -62.  -61.  -60.  -59.  -58.  -57.  -56.  -55.  -54.  -53.\n",
      "  -52.  -51.  -50.  -49.  -48.  -47.  -46.  -45.  -44.  -43.  -42.  -41.\n",
      "  -40.  -39.  -38.  -37.  -36.  -35.  -34.  -33.  -32.  -31.  -30.  -29.\n",
      "  -28.  -27.  -26.  -25.  -24.  -23.  -22.  -21.  -20.  -19.  -18.  -17.\n",
      "  -16.  -15.  -14.  -13.  -12.  -11.  -10.   -9.   -8.   -7.   -6.   -5.\n",
      "   -4.   -3.   -2.   -1.    0.    1.    2.    3.    4.    5.    6.    7.\n",
      "    8.    9.   10.   11.   12.   13.   14.   15.   16.   17.   18.   19.\n",
      "   20.   21.   22.   23.   24.   25.   26.   27.   28.   29.   30.   31.\n",
      "   32.   33.   34.   35.   36.   37.   38.   39.   40.   41.   42.   43.\n",
      "   44.   45.   46.   47.   48.   49.   50.   51.   52.   53.   54.   55.\n",
      "   56.   57.   58.   59.   60.   61.   62.   63.   64.   65.   66.   67.\n",
      "   68.   69.   70.   71.   72.   73.   74.   75.   76.   77.   78.   79.\n",
      "   80.   81.   82.   83.   84.   85.   86.   87.   88.   89.   90.   91.\n",
      "   92.   93.   94.   95.   96.   97.   98.   99.  100.]\n"
     ]
    }
   ],
   "source": [
    "print(grid.coordinates()[0])"
   ]
  },
  {
   "cell_type": "markdown",
   "metadata": {},
   "source": [
    "`UniformGridData` are much more interesting. `UniformGridData` packages a\n",
    "`UniformGrid` and some data in the same object and provides many useful\n",
    "functionalities.\n",
    "\n",
    "Let us create some fake data to explore the capabilities. A simple way to\n",
    "generate a `UniformGridData` from a function is with `sample_function`."
   ]
  },
  {
   "cell_type": "code",
   "execution_count": 7,
   "metadata": {
    "execution": {
     "iopub.execute_input": "2021-02-17T15:48:26.248921Z",
     "iopub.status.busy": "2021-02-17T15:48:26.248294Z",
     "iopub.status.idle": "2021-02-17T15:48:26.257005Z",
     "shell.execute_reply": "2021-02-17T15:48:26.256478Z"
    }
   },
   "outputs": [],
   "source": [
    "grid_data = gdu.sample_function(lambda x, y: x * y,\n",
    "                          [101, 201], # shape\n",
    "                          [0, 0], # origin\n",
    "                          [10, 10] # other corner\n",
    "                          )"
   ]
  },
  {
   "cell_type": "markdown",
   "metadata": {},
   "source": [
    "We can visualize this data with matplotlib `contourf`. \n",
    "To do this, we need the coordinates as meshgrid, and we need the actual data.\n",
    "To get the first, we use the `coordinates_meshgrid` method, for the second, we\n",
    "access directly the data with the `data` attribute. This is stored as a numpy \n",
    "array. Often, we want to plot these objects. Using `data` directly would lead to \n",
    "transposing the actual physical quantity, because `data` is a matrix stored by rows, \n",
    "so, the first index does not label the x coordiante, but the y. \n",
    "We provide the aliaxs `data_xyz`, which is the the tranposed of `data`. This is ready to be plotted. \n",
    "Here we plot the various quantities directly so we can see how to access the data. `kuibit.visualize` contains methods to streamline these operations.\n"
   ]
  },
  {
   "cell_type": "code",
   "execution_count": 8,
   "metadata": {
    "execution": {
     "iopub.execute_input": "2021-02-17T15:48:26.279937Z",
     "iopub.status.busy": "2021-02-17T15:48:26.260558Z",
     "iopub.status.idle": "2021-02-17T15:48:26.483354Z",
     "shell.execute_reply": "2021-02-17T15:48:26.482646Z"
    }
   },
   "outputs": [
    {
     "data": {
      "text/plain": [
       "<matplotlib.colorbar.Colorbar at 0x7ff5532cce10>"
      ]
     },
     "execution_count": 1,
     "metadata": {},
     "output_type": "execute_result"
    },
    {
     "data": {
      "image/png": "[encoded data removed]",
      "text/plain": [
       "<Figure size 432x288 with 2 Axes>"
      ]
     },
     "metadata": {
      "needs_background": "light"
     },
     "output_type": "display_data"
    }
   ],
   "source": [
    "cf = plt.contourf(*grid_data.coordinates_meshgrid(), # The star is to unpack the list\n",
    "                  grid_data.data_xyz) \n",
    "plt.colorbar(cf)"
   ]
  },
  {
   "cell_type": "markdown",
   "metadata": {},
   "source": [
    "`UniformGridData` support all the mathematical operations we may want, for instance."
   ]
  },
  {
   "cell_type": "code",
   "execution_count": 9,
   "metadata": {
    "execution": {
     "iopub.execute_input": "2021-02-17T15:48:26.488986Z",
     "iopub.status.busy": "2021-02-17T15:48:26.488382Z",
     "iopub.status.idle": "2021-02-17T15:48:26.727792Z",
     "shell.execute_reply": "2021-02-17T15:48:26.727054Z"
    }
   },
   "outputs": [
    {
     "data": {
      "text/plain": [
       "<matplotlib.colorbar.Colorbar at 0x7ff54af525d0>"
      ]
     },
     "execution_count": 1,
     "metadata": {},
     "output_type": "execute_result"
    },
    {
     "data": {
      "image/png": "[encoded data removed]",
      "text/plain": [
       "<Figure size 432x288 with 2 Axes>"
      ]
     },
     "metadata": {
      "needs_background": "light"
     },
     "output_type": "display_data"
    }
   ],
   "source": [
    "funky_data = np.sqrt(grid_data) + grid_data**2 * np.tanh(grid_data)\n",
    "cf = plt.contourf(*funky_data.coordinates_meshgrid(), funky_data.data_xyz)\n",
    "plt.colorbar(cf)"
   ]
  },
  {
   "cell_type": "markdown",
   "metadata": {},
   "source": [
    "`UniformGridData` can be interpolated with splines to evalute data everywhere, even where there was no data. With this, we can make `UniformGridData` callable objects:"
   ]
  },
  {
   "cell_type": "code",
   "execution_count": 10,
   "metadata": {
    "execution": {
     "iopub.execute_input": "2021-02-17T15:48:26.734160Z",
     "iopub.status.busy": "2021-02-17T15:48:26.733090Z",
     "iopub.status.idle": "2021-02-17T15:48:26.736525Z",
     "shell.execute_reply": "2021-02-17T15:48:26.736012Z"
    }
   },
   "outputs": [
    {
     "name": "stdout",
     "output_type": "stream",
     "text": [
      "The value of funky_data at (2, 3) is 38.449\n"
     ]
    }
   ],
   "source": [
    "print(f\"The value of funky_data at (2, 3) is {funky_data((2,3)):.3f}\")"
   ]
  },
  {
   "cell_type": "markdown",
   "metadata": {},
   "source": [
    "`UniformGridData` have built-in a collection of useful functions, for example:"
   ]
  },
  {
   "cell_type": "code",
   "execution_count": 11,
   "metadata": {
    "execution": {
     "iopub.execute_input": "2021-02-17T15:48:26.742712Z",
     "iopub.status.busy": "2021-02-17T15:48:26.742138Z",
     "iopub.status.idle": "2021-02-17T15:48:26.870055Z",
     "shell.execute_reply": "2021-02-17T15:48:26.869529Z"
    }
   },
   "outputs": [
    {
     "name": "stdout",
     "output_type": "stream",
     "text": [
      "The mean of funky_data is 1123.865\n",
      "The integral of funky_data is 114077.947\n",
      "The norm2 of funky_data is 20417.836\n"
     ]
    },
    {
     "data": {
      "text/plain": [
       "[<matplotlib.lines.Line2D at 0x7ff54ae7b6d0>]"
      ]
     },
     "execution_count": 1,
     "metadata": {},
     "output_type": "execute_result"
    },
    {
     "data": {
      "image/png": "[encoded data removed]",
      "text/plain": [
       "<Figure size 432x288 with 1 Axes>"
      ]
     },
     "metadata": {
      "needs_background": "light"
     },
     "output_type": "display_data"
    }
   ],
   "source": [
    "print(f\"The mean of funky_data is {funky_data.mean():.3f}\")\n",
    "print(f\"The integral of funky_data is {funky_data.integral():.3f}\")\n",
    "print(f\"The norm2 of funky_data is {funky_data.norm2():.3f}\")\n",
    "\n",
    "bins, hist = funky_data.histogram(num_bins=20)\n",
    "plt.ylabel(\"count\")\n",
    "plt.xlabel(\"value\")\n",
    "plt.plot(bins, hist[:-1])"
   ]
  },
  {
   "cell_type": "markdown",
   "metadata": {},
   "source": [
    "It is not possible to combine directly two `UniformGridData` with different associated grids, \n",
    "but it is always possible to resample the objects so that they have a common grid.\n",
    "\n",
    "Pay attention: resampling operations can be very expensive with large grids or high dimensions! "
   ]
  },
  {
   "cell_type": "code",
   "execution_count": 12,
   "metadata": {
    "execution": {
     "iopub.execute_input": "2021-02-17T15:48:26.875931Z",
     "iopub.status.busy": "2021-02-17T15:48:26.875343Z",
     "iopub.status.idle": "2021-02-17T15:48:27.116600Z",
     "shell.execute_reply": "2021-02-17T15:48:27.116027Z"
    }
   },
   "outputs": [
    {
     "data": {
      "text/plain": [
       "<matplotlib.colorbar.Colorbar at 0x7ff54ad9cb10>"
      ]
     },
     "execution_count": 1,
     "metadata": {},
     "output_type": "execute_result"
    },
    {
     "data": {
      "image/png": "[encoded data removed]",
      "text/plain": [
       "<Figure size 432x288 with 2 Axes>"
      ]
     },
     "metadata": {
      "needs_background": "light"
     },
     "output_type": "display_data"
    }
   ],
   "source": [
    "new_grid = gd.UniformGrid([201, 301], x0=[1, 1], x1=[2, 10])\n",
    "resampled_funky = funky_data.resampled(new_grid)\n",
    "cf = plt.contourf(*resampled_funky.coordinates_meshgrid(), resampled_funky.data_xyz)\n",
    "plt.colorbar(cf)"
   ]
  },
  {
   "cell_type": "markdown",
   "metadata": {},
   "source": [
    "Being able to resample `UniformGridData` means that even if it is not possible to directly\n",
    "combine objects with different grids, you can always resample them to a common grid, and then\n",
    "perform the operation.\n",
    "\n",
    "Now that we have some familiarity with `UniformGridData`, we can move to the most important\n",
    "object, `HierarchicalGridData`. The relevance of this class is due to the fact that simulation\n",
    "data is represented with `HierarchicalGridData` objects.\n",
    "\n",
    "A `HierarchicalGridData` is a collection of `UniformGridData`, or (or more) for each refinement\n",
    "level.\n",
    "\n",
    "Let us prepare some fake data."
   ]
  },
  {
   "cell_type": "code",
   "execution_count": 13,
   "metadata": {
    "execution": {
     "iopub.execute_input": "2021-02-17T15:48:27.125538Z",
     "iopub.status.busy": "2021-02-17T15:48:27.123598Z",
     "iopub.status.idle": "2021-02-17T15:48:27.129565Z",
     "shell.execute_reply": "2021-02-17T15:48:27.130007Z"
    }
   },
   "outputs": [
    {
     "name": "stdout",
     "output_type": "stream",
     "text": [
      "Available refinement levels (components):\n",
      "0 (1)\n",
      "1 (1)\n",
      "2 (1)\n",
      "Spacing at coarsest level (0): [1. 1.]\n",
      "Spacing at finest level (2): [0.33333333 0.33333333]\n"
     ]
    }
   ],
   "source": [
    "# 3 refinement levels\n",
    "data = []\n",
    "for ref_level in range(3):\n",
    "    resolution = (1 + ref_level) * 20 + 1\n",
    "    data.append(gdu.sample_function(lambda x, y: x*y + 5,\n",
    "                                   [resolution, resolution],\n",
    "                                   [-10, -10], \n",
    "                                   [10, 10],\n",
    "                                   ref_level=ref_level\n",
    "                                   ))\n",
    "hg = gd.HierarchicalGridData(data)\n",
    "print(hg)"
   ]
  },
  {
   "cell_type": "markdown",
   "metadata": {},
   "source": [
    "\"Components\" are essentially patches of grid. In some cases,\n",
    "components are a result of running the code on multiple processes.\n",
    "In this case, kuibit will try to merge them in a single grid.\n",
    "In other instances, when there are multiple centers of refinement,\n",
    "the components are real. Here, kuibit will do nothing and will\n",
    "keep all the components around.\n",
    "\n",
    "To access a specific refinement level, we can use the backet operator.\n",
    "This will return a list of all the components at that level. Often,\n",
    "there will be only one element because kuibit successfully merged\n",
    "the various patches. In this case, one can use the `get_level` method\n",
    "to get directly the data on that level."
   ]
  },
  {
   "cell_type": "code",
   "execution_count": 14,
   "metadata": {
    "execution": {
     "iopub.execute_input": "2021-02-17T15:48:27.134191Z",
     "iopub.status.busy": "2021-02-17T15:48:27.133622Z",
     "iopub.status.idle": "2021-02-17T15:48:27.137979Z",
     "shell.execute_reply": "2021-02-17T15:48:27.137500Z"
    }
   },
   "outputs": [],
   "source": [
    "level2 = hg.get_level(2)"
   ]
  },
  {
   "cell_type": "code",
   "execution_count": 15,
   "metadata": {
    "execution": {
     "iopub.execute_input": "2021-02-17T15:48:27.142223Z",
     "iopub.status.busy": "2021-02-17T15:48:27.141655Z",
     "iopub.status.idle": "2021-02-17T15:48:27.145844Z",
     "shell.execute_reply": "2021-02-17T15:48:27.146323Z"
    }
   },
   "outputs": [
    {
     "data": {
      "text/plain": [
       "kuibit.grid_data.UniformGridData"
      ]
     },
     "execution_count": 1,
     "metadata": {},
     "output_type": "execute_result"
    }
   ],
   "source": [
    "type(level2)"
   ]
  },
  {
   "cell_type": "markdown",
   "metadata": {},
   "source": [
    "As we see, this is just a `UniformGridData`, so everything we can operate\n",
    "on single levels exactly in the same way we work on `UniformGridData`.\n",
    "If the  `HierarchicalGridData` has multiple disconnected components, \n",
    "`hg[2]` will instead return a list of `UniformGridData`.\n",
    "\n",
    " `HierarchicalGridData` fully support mathematical operations. (Binary operations\n",
    " are performed only if the two objects have the same grids and components.)"
   ]
  },
  {
   "cell_type": "code",
   "execution_count": 16,
   "metadata": {
    "execution": {
     "iopub.execute_input": "2021-02-17T15:48:27.151548Z",
     "iopub.status.busy": "2021-02-17T15:48:27.150961Z",
     "iopub.status.idle": "2021-02-17T15:48:27.155982Z",
     "shell.execute_reply": "2021-02-17T15:48:27.156423Z"
    }
   },
   "outputs": [
    {
     "name": "stdout",
     "output_type": "stream",
     "text": [
      "more_funk of (2, 3) is 2.565\n"
     ]
    }
   ],
   "source": [
    "more_funk = (abs(hg) + 2).log() # For some reasons np.log(hg) doesn't work... \n",
    "\n",
    "# We can also call the HierarchicalGridData\n",
    "print(f\"more_funk of (2, 3) is {more_funk((2,3)):.3f}\")"
   ]
  },
  {
   "cell_type": "markdown",
   "metadata": {},
   "source": [
    "We cannot plot directly this object, because it is a complicated object. To plot it, we have to merge the refinement levels to a single `UniformGridData`. We can do this with `merge_refinement_levels()`. "
   ]
  },
  {
   "cell_type": "code",
   "execution_count": 17,
   "metadata": {
    "execution": {
     "iopub.execute_input": "2021-02-17T15:48:27.180046Z",
     "iopub.status.busy": "2021-02-17T15:48:27.170532Z",
     "iopub.status.idle": "2021-02-17T15:48:27.427888Z",
     "shell.execute_reply": "2021-02-17T15:48:27.428351Z"
    }
   },
   "outputs": [
    {
     "data": {
      "text/plain": [
       "<matplotlib.colorbar.Colorbar at 0x7ff54ad0e6d0>"
      ]
     },
     "execution_count": 1,
     "metadata": {},
     "output_type": "execute_result"
    },
    {
     "data": {
      "image/png": "[encoded data removed]",
      "text/plain": [
       "<Figure size 432x288 with 2 Axes>"
      ]
     },
     "metadata": {
      "needs_background": "light"
     },
     "output_type": "display_data"
    }
   ],
   "source": [
    "merged = more_funk.merge_refinement_levels(resample=True)\n",
    "cf = plt.contourf(*merged.coordinates_meshgrid(), merged.data_xyz)\n",
    "plt.colorbar(cf)"
   ]
  },
  {
   "cell_type": "markdown",
   "metadata": {},
   "source": [
    "As you noticed, we enabled the `resample` option. With this option the coarser refinement levels are interpolated to the new finer grid using multilinear interpolation.\n",
    "\n",
    "When working with large grids, many refinement levels, and/or 3D data, merging the various refinement levels can be a very expensive operation. However, often we don't need the entire grid, but we want to look at a portion. `HierachicalGridData` objects have a method to merge the refinement levels on a specified grid."
   ]
  },
  {
   "cell_type": "code",
   "execution_count": 18,
   "metadata": {
    "execution": {
     "iopub.execute_input": "2021-02-17T15:48:27.438289Z",
     "iopub.status.busy": "2021-02-17T15:48:27.436494Z",
     "iopub.status.idle": "2021-02-17T15:48:27.676603Z",
     "shell.execute_reply": "2021-02-17T15:48:27.676062Z"
    }
   },
   "outputs": [
    {
     "data": {
      "text/plain": [
       "<matplotlib.colorbar.Colorbar at 0x7ff54ac00550>"
      ]
     },
     "execution_count": 1,
     "metadata": {},
     "output_type": "execute_result"
    },
    {
     "data": {
      "image/png": "[encoded data removed]",
      "text/plain": [
       "<Figure size 432x288 with 2 Axes>"
      ]
     },
     "metadata": {
      "needs_background": "light"
     },
     "output_type": "display_data"
    }
   ],
   "source": [
    "small_funk = more_funk.to_UniformGridData([20, 20], x0=[-1, -1], x1=[1, 1], resample=False)\n",
    "cf = plt.contourf(*small_funk.coordinates_meshgrid(), small_funk.data_xyz)\n",
    "plt.colorbar(cf)"
   ]
  },
  {
   "cell_type": "markdown",
   "metadata": {},
   "source": [
    "`HierachicalGridData` objects have a lot of information that is accessible as a property."
   ]
  },
  {
   "cell_type": "code",
   "execution_count": 19,
   "metadata": {
    "execution": {
     "iopub.execute_input": "2021-02-17T15:48:27.685172Z",
     "iopub.status.busy": "2021-02-17T15:48:27.684482Z",
     "iopub.status.idle": "2021-02-17T15:48:27.688969Z",
     "shell.execute_reply": "2021-02-17T15:48:27.688436Z"
    }
   },
   "outputs": [
    {
     "name": "stdout",
     "output_type": "stream",
     "text": [
      "Available refinement levels: [0, 1, 2]\n",
      "Spacing of the coarsest: [1. 1.]\n",
      "Spacing of the finest: [0.33333333 0.33333333]\n",
      "Finest level: <kuibit.grid_data.UniformGridData object at 0x7ff54adb3d90>\n"
     ]
    }
   ],
   "source": [
    "print(f\"Available refinement levels: {hg.refinement_levels}\")\n",
    "print(f\"Spacing of the coarsest: {hg.coarsest_dx}\")\n",
    "print(f\"Spacing of the finest: {hg.finest_dx}\")\n",
    "print(f\"Finest level: {hg.finest_level}\")"
   ]
  },
  {
   "cell_type": "markdown",
   "metadata": {},
   "source": [
    "Often, we want to look at a specific cut of the data. `UniformGridData` can be sliced easily. Just prepare a `cut` array with `None` where you want to keep the dimension, and the coordiante of where you want to slice. For example, here we extract the line with `y=0.7`."
   ]
  },
  {
   "cell_type": "code",
   "execution_count": 20,
   "metadata": {
    "execution": {
     "iopub.execute_input": "2021-02-17T15:48:27.695023Z",
     "iopub.status.busy": "2021-02-17T15:48:27.693097Z",
     "iopub.status.idle": "2021-02-17T15:48:27.849263Z",
     "shell.execute_reply": "2021-02-17T15:48:27.849723Z"
    }
   },
   "outputs": [
    {
     "name": "stdout",
     "output_type": "stream",
     "text": [
      "Shape            = [20]\n",
      "Num ghost zones  = [0]\n",
      "Ref. level       = -1\n",
      "Component        = -1\n",
      "x0               = [-1.]\n",
      "x0/dx            = [-9.5]\n",
      "x1               = [1.]\n",
      "x1/dx            = [-9.5]\n",
      "Volume           = 2.1052631578947367\n",
      "dx               = [0.10526316]\n",
      "Time             = None\n",
      "Iteration        = None\n",
      "\n"
     ]
    },
    {
     "data": {
      "text/plain": [
       "[<matplotlib.lines.Line2D at 0x7ff54ab2d710>]"
      ]
     },
     "execution_count": 1,
     "metadata": {},
     "output_type": "execute_result"
    },
    {
     "data": {
      "image/png": "[encoded data removed]",
      "text/plain": [
       "<Figure size 432x288 with 1 Axes>"
      ]
     },
     "metadata": {
      "needs_background": "light"
     },
     "output_type": "display_data"
    }
   ],
   "source": [
    "along_y = small_funk.sliced([None,0.7])\n",
    "print(along_y.grid)\n",
    "plt.plot(*along_y.coordinates_meshgrid(), along_y.data)"
   ]
  }
 ],
 "metadata": {
  "kernelspec": {
   "display_name": "Python 3",
   "language": "python",
   "name": "python3"
  },
  "language_info": {
   "codemirror_mode": {
    "name": "ipython",
    "version": 3
   },
   "file_extension": ".py",
   "mimetype": "text/x-python",
   "name": "python",
   "nbconvert_exporter": "python",
   "pygments_lexer": "ipython3",
   "version": "3.7.9"
  },
  "name": "grid_data.ipynb"
 },
 "nbformat": 4,
 "nbformat_minor": 4
}
