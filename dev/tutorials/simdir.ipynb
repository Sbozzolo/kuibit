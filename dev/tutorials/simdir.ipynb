{
 "cells": [
  {
   "cell_type": "markdown",
   "metadata": {},
   "source": [
    "# Working with Simulation Directories\n",
    "\n",
    "Analyzing simulation data is as important as running the simulation itself. In this notebook, we will see how we easily access all the data using the [SimDir](../simdir.rst) module.\n",
    "\n",
    "(This notebook is meant to be converted in Sphinx documentation and not used directly.)"
   ]
  },
  {
   "cell_type": "code",
   "execution_count": 1,
   "metadata": {
    "execution": {
     "iopub.execute_input": "2021-08-09T23:27:42.411640Z",
     "iopub.status.busy": "2021-08-09T23:27:42.410979Z",
     "iopub.status.idle": "2021-08-09T23:27:42.839197Z",
     "shell.execute_reply": "2021-08-09T23:27:42.838662Z"
    }
   },
   "outputs": [],
   "source": [
    "from kuibit import simdir as sd"
   ]
  },
  {
   "cell_type": "markdown",
   "metadata": {},
   "source": [
    "Loading simulation data is as easy as generating `SimDir` objects. Just provide the path, and kuibit will do the rest."
   ]
  },
  {
   "cell_type": "code",
   "execution_count": 2,
   "metadata": {
    "execution": {
     "iopub.execute_input": "2021-08-09T23:27:42.843420Z",
     "iopub.status.busy": "2021-08-09T23:27:42.842817Z",
     "iopub.status.idle": "2021-08-09T23:27:42.852538Z",
     "shell.execute_reply": "2021-08-09T23:27:42.853038Z"
    }
   },
   "outputs": [],
   "source": [
    "sim = sd.SimDir(\"../../tests/tov\")"
   ]
  },
  {
   "cell_type": "markdown",
   "metadata": {},
   "source": [
    "We can get an overview of what is available by printing `sim`:"
   ]
  },
  {
   "cell_type": "code",
   "execution_count": 3,
   "metadata": {
    "execution": {
     "iopub.execute_input": "2021-08-09T23:27:42.857579Z",
     "iopub.status.busy": "2021-08-09T23:27:42.856977Z",
     "iopub.status.idle": "2021-08-09T23:27:43.012912Z",
     "shell.execute_reply": "2021-08-09T23:27:43.012373Z"
    }
   },
   "outputs": [
    {
     "name": "stdout",
     "output_type": "stream",
     "text": [
      "Indexed 446 files and 5 subdirectories\n",
      "Folder /home/runner/work/kuibit/kuibit/tests/tov\n",
      "Available scalar timeseries:\n",
      "['physical_time_per_hour', 'current_physical_time_per_hour', 'time_total', 'time_evolution', 'time_computing', 'time_communicating', 'time_io', 'evolution_steps_count', 'local_grid_points_per_second', 'total_grid_points_per_second', 'local_grid_point_updates_count', 'total_grid_point_updates_count', 'local_interior_points_per_second', 'total_interior_points_per_second', 'local_interior_point_updates_count', 'total_interior_point_updates_count', 'io_per_second', 'io_bytes_per_second', 'io_bytes_ascii_per_second', 'io_bytes_binary_per_second', 'io_count', 'io_bytes_count', 'io_bytes_ascii_count', 'io_bytes_binary_count', 'comm_per_second', 'comm_bytes_per_second', 'comm_count', 'comm_bytes_count', 'time_levels']\n",
      "\n",
      "Available minimum timeseries:\n",
      "['vel[0]', 'vel[1]', 'vel[2]', 'kxx', 'kxy', 'kxz', 'kyy', 'kyz', 'kzz', 'eps', 'gxx', 'gxy', 'gxz', 'gyy', 'gyz', 'gzz', 'M1', 'M2', 'M3', 'H', 'press', 'alp', 'rho']\n",
      "\n",
      "Available maximum timeseries:\n",
      "['vel[0]', 'kxx', 'kxy', 'kxz', 'kyy', 'kyz', 'kzz', 'M1', 'M2', 'M3', 'press', 'alp', 'gxx', 'gxy', 'gxz', 'gyy', 'gyz', 'gzz', 'eps', 'rho', 'vel[1]', 'vel[2]', 'H']\n",
      "\n",
      "Available norm1 timeseries:\n",
      "['gxx', 'gxy', 'gxz', 'gyy', 'gyz', 'gzz', 'rho', 'vel[0]', 'vel[1]', 'vel[2]', 'eps', 'alp', 'M1', 'M2', 'M3', 'kxx', 'kxy', 'kxz', 'kyy', 'kyz', 'kzz', 'press', 'H']\n",
      "\n",
      "Available norm2 timeseries:\n",
      "['eps', 'kxx', 'kxy', 'kxz', 'kyy', 'kyz', 'kzz', 'vel[0]', 'vel[1]', 'vel[2]', 'M1', 'M2', 'M3', 'press', 'rho', 'alp', 'H', 'gxx', 'gxy', 'gxz', 'gyy', 'gyz', 'gzz']\n",
      "\n",
      "Available average timeseries:\n",
      "['press', 'vel[0]', 'vel[1]', 'vel[2]', 'alp', 'gxx', 'gxy', 'gxz', 'gyy', 'gyz', 'gzz', 'rho', 'eps', 'M1', 'M2', 'M3', 'kxx', 'kxy', 'kxz', 'kyy', 'kyz', 'kzz', 'H']\n",
      "\n",
      "Variables available: dict_keys(['harmonic', 'phi2', 'psi4'])\n",
      "For variable harmonic:\n",
      "\n",
      "Avilable radii: [4.0, 8.0]\n",
      "\n",
      "At radius 4.0, (l, m) available: dict_keys([(0, 0), (1, -1), (1, 0), (1, 1), (2, -1), (2, -2), (2, 0), (2, 1), (2, 2)])\n",
      "At radius 8.0, (l, m) available: dict_keys([(0, 0), (1, -1), (1, 0), (1, 1), (2, -1), (2, -2), (2, 0), (2, 1), (2, 2)])\n",
      "\n",
      "For variable phi2:\n",
      "\n",
      "Avilable radii: [77.93, 140.16, 110.69, 48.95, 67.88, 91.46, 53.96, 44.78, 60.13, 191.0]\n",
      "\n",
      "At radius 44.78, (l, m) available: dict_keys([(2, 0), (2, -1), (2, 1), (2, 2), (2, -2)]) (missing: [(1, 0), (0, 0), (1, -1), (1, 1)])\n",
      "At radius 48.95, (l, m) available: dict_keys([(2, 1), (2, 2), (2, -1), (2, 0), (2, -2)]) (missing: [(1, 0), (0, 0), (1, -1), (1, 1)])\n",
      "At radius 53.96, (l, m) available: dict_keys([(2, -1), (2, -2), (2, 2), (2, 1), (2, 0)]) (missing: [(1, 0), (0, 0), (1, -1), (1, 1)])\n",
      "At radius 60.13, (l, m) available: dict_keys([(2, 2), (2, 1), (2, -1), (2, 0), (2, -2)]) (missing: [(1, 0), (0, 0), (1, -1), (1, 1)])\n",
      "At radius 67.88, (l, m) available: dict_keys([(2, -1), (2, 2), (2, -2), (2, 1), (2, 0)]) (missing: [(1, 0), (0, 0), (1, -1), (1, 1)])\n",
      "At radius 77.93, (l, m) available: dict_keys([(2, -1), (2, 0), (2, -2), (2, 2), (2, 1)]) (missing: [(1, 0), (0, 0), (1, -1), (1, 1)])\n",
      "At radius 91.46, (l, m) available: dict_keys([(2, -1), (2, -2), (2, 1), (2, 2), (2, 0)]) (missing: [(1, 0), (0, 0), (1, -1), (1, 1)])\n",
      "At radius 110.69, (l, m) available: dict_keys([(2, -1), (2, 2), (2, -2), (2, 1), (2, 0)]) (missing: [(1, 0), (0, 0), (1, -1), (1, 1)])\n",
      "At radius 140.16, (l, m) available: dict_keys([(2, -1), (2, 2), (2, -2), (2, 0), (2, 1)]) (missing: [(1, 0), (0, 0), (1, -1), (1, 1)])\n",
      "At radius 191.0, (l, m) available: dict_keys([(2, 0), (2, -2), (2, -1), (2, 1), (2, 2)]) (missing: [(1, 0), (0, 0), (1, -1), (1, 1)])\n",
      "\n",
      "For variable psi4:\n",
      "\n",
      "Avilable radii: [110.69, 53.96, 91.46, 44.78, 191.0, 60.13, 140.16, 48.95, 77.93, 67.88]\n",
      "\n",
      "At radius 44.78, (l, m) available: dict_keys([(2, 0), (2, -1), (2, -2), (2, 1), (2, 2)]) (missing: [(1, 0), (0, 0), (1, -1), (1, 1)])\n",
      "At radius 48.95, (l, m) available: dict_keys([(2, 2), (2, 0), (2, -1), (2, 1), (2, -2)]) (missing: [(1, 0), (0, 0), (1, -1), (1, 1)])\n",
      "At radius 53.96, (l, m) available: dict_keys([(2, -1), (2, -2), (2, 2), (2, 1), (2, 0)]) (missing: [(1, 0), (0, 0), (1, -1), (1, 1)])\n",
      "At radius 60.13, (l, m) available: dict_keys([(2, -2), (2, 2), (2, -1), (2, 0), (2, 1)]) (missing: [(1, 0), (0, 0), (1, -1), (1, 1)])\n",
      "At radius 67.88, (l, m) available: dict_keys([(2, 2), (2, 1), (2, -2), (2, -1), (2, 0)]) (missing: [(1, 0), (0, 0), (1, -1), (1, 1)])\n",
      "At radius 77.93, (l, m) available: dict_keys([(2, 2), (2, -1), (2, -2), (2, 1), (2, 0)]) (missing: [(1, 0), (0, 0), (1, -1), (1, 1)])\n",
      "At radius 91.46, (l, m) available: dict_keys([(2, 1), (2, -1), (2, -2), (2, 0), (2, 2)]) (missing: [(1, 0), (0, 0), (1, -1), (1, 1)])\n",
      "At radius 110.69, (l, m) available: dict_keys([(2, -1), (2, 0), (2, 2), (2, 1), (2, -2)]) (missing: [(1, 0), (0, 0), (1, -1), (1, 1)])\n",
      "At radius 140.16, (l, m) available: dict_keys([(2, -2), (2, 1), (2, 0), (2, 2), (2, -1)]) (missing: [(1, 0), (0, 0), (1, -1), (1, 1)])\n",
      "At radius 191.0, (l, m) available: dict_keys([(2, 2), (2, 0), (2, -2), (2, 1), (2, -1)]) (missing: [(1, 0), (0, 0), (1, -1), (1, 1)])\n",
      "\n",
      "Available gravitational wave dataAvailable electromagnetic wave data\n",
      "Available grid data of dimension 1D (x): \n",
      "['rho', 'H', 'kxx', 'kxy', 'kxz', 'kyy', 'kyz', 'kzz', 'alp', 'gxx', 'gxy', 'gxz', 'gyy', 'gyz', 'gzz', 'press', 'M1', 'M2', 'M3', 'vel[0]', 'vel[1]', 'vel[2]', 'eps']\n",
      "\n",
      "\n",
      "Available grid data of dimension 1D (y): \n",
      "['alp', 'kxx', 'kxy', 'kxz', 'kyy', 'kyz', 'kzz', 'gxx', 'gxy', 'gxz', 'gyy', 'gyz', 'gzz', 'H', 'press', 'vel[0]', 'vel[1]', 'vel[2]', 'eps', 'rho', 'M1', 'M2', 'M3']\n",
      "\n",
      "\n",
      "Available grid data of dimension 1D (z): \n",
      "['alp', 'gxx', 'gxy', 'gxz', 'gyy', 'gyz', 'gzz', 'eps', 'M1', 'M2', 'M3', 'H', 'vel[0]', 'vel[1]', 'vel[2]', 'kxx', 'kxy', 'kxz', 'kyy', 'kyz', 'kzz', 'rho', 'press']\n",
      "\n",
      "\n",
      "Available grid data of dimension 2D (xy): \n",
      "['rho', 'vel[0]', 'vel[1]', 'vel[2]']\n",
      "\n",
      "\n",
      "Available grid data of dimension 2D (xz): \n",
      "['vel[2]', 'vel[1]', 'vel[0]', 'rho']\n",
      "\n",
      "\n",
      "Available grid data of dimension 2D (yz): \n",
      "['vel[0]', 'vel[1]', 'vel[2]', 'rho']\n",
      "\n",
      "\n",
      "Available grid data of dimension 3D (xyz): \n",
      "['vel[0]', 'vel[2]', 'vel[1]', 'rho', 'mp_harmonic']\n",
      "No horizon found\n"
     ]
    }
   ],
   "source": [
    "print(sim)"
   ]
  },
  {
   "cell_type": "markdown",
   "metadata": {},
   "source": [
    "This is a long output because we have a lot of available data! Everything that is printed is the output is easily accessible through `SimDir`. Moreover, the loading of data is lazy and the result is cached: computations are done only when needed, and all the subsequent calls will be immediate.\n",
    "\n",
    "If you have thorns with custom output, you have to extend `kuibit` to analyze them. `SimDir` has multiple submodules to handle the different kind of data. Let us explore them."
   ]
  },
  {
   "cell_type": "markdown",
   "metadata": {},
   "source": [
    "## SimDir and pickles"
   ]
  },
  {
   "cell_type": "markdown",
   "metadata": {},
   "source": [
    "`SimDir` performs some operations only when they needed. This work has be done every time the Python interpreter is killed. In some cases, it is useful to save the progress to files, resulting in faster execution times. This can be done with pickles. The simplest way to do so is as follows."
   ]
  },
  {
   "cell_type": "code",
   "execution_count": 4,
   "metadata": {
    "execution": {
     "iopub.execute_input": "2021-08-09T23:27:43.017481Z",
     "iopub.status.busy": "2021-08-09T23:27:43.016882Z",
     "iopub.status.idle": "2021-08-09T23:27:43.185163Z",
     "shell.execute_reply": "2021-08-09T23:27:43.184596Z"
    },
    "scrolled": true
   },
   "outputs": [
    {
     "name": "stdout",
     "output_type": "stream",
     "text": [
      "Indexed 446 files and 5 subdirectories\n",
      "Folder /home/runner/work/kuibit/kuibit/tests/tov\n",
      "Available scalar timeseries:\n",
      "['physical_time_per_hour', 'current_physical_time_per_hour', 'time_total', 'time_evolution', 'time_computing', 'time_communicating', 'time_io', 'evolution_steps_count', 'local_grid_points_per_second', 'total_grid_points_per_second', 'local_grid_point_updates_count', 'total_grid_point_updates_count', 'local_interior_points_per_second', 'total_interior_points_per_second', 'local_interior_point_updates_count', 'total_interior_point_updates_count', 'io_per_second', 'io_bytes_per_second', 'io_bytes_ascii_per_second', 'io_bytes_binary_per_second', 'io_count', 'io_bytes_count', 'io_bytes_ascii_count', 'io_bytes_binary_count', 'comm_per_second', 'comm_bytes_per_second', 'comm_count', 'comm_bytes_count', 'time_levels']\n",
      "\n",
      "Available minimum timeseries:\n",
      "['vel[0]', 'vel[1]', 'vel[2]', 'kxx', 'kxy', 'kxz', 'kyy', 'kyz', 'kzz', 'eps', 'gxx', 'gxy', 'gxz', 'gyy', 'gyz', 'gzz', 'M1', 'M2', 'M3', 'H', 'press', 'alp', 'rho']\n",
      "\n",
      "Available maximum timeseries:\n",
      "['vel[0]', 'kxx', 'kxy', 'kxz', 'kyy', 'kyz', 'kzz', 'M1', 'M2', 'M3', 'press', 'alp', 'gxx', 'gxy', 'gxz', 'gyy', 'gyz', 'gzz', 'eps', 'rho', 'vel[1]', 'vel[2]', 'H']\n",
      "\n",
      "Available norm1 timeseries:\n",
      "['gxx', 'gxy', 'gxz', 'gyy', 'gyz', 'gzz', 'rho', 'vel[0]', 'vel[1]', 'vel[2]', 'eps', 'alp', 'M1', 'M2', 'M3', 'kxx', 'kxy', 'kxz', 'kyy', 'kyz', 'kzz', 'press', 'H']\n",
      "\n",
      "Available norm2 timeseries:\n",
      "['eps', 'kxx', 'kxy', 'kxz', 'kyy', 'kyz', 'kzz', 'vel[0]', 'vel[1]', 'vel[2]', 'M1', 'M2', 'M3', 'press', 'rho', 'alp', 'H', 'gxx', 'gxy', 'gxz', 'gyy', 'gyz', 'gzz']\n",
      "\n",
      "Available average timeseries:\n",
      "['press', 'vel[0]', 'vel[1]', 'vel[2]', 'alp', 'gxx', 'gxy', 'gxz', 'gyy', 'gyz', 'gzz', 'rho', 'eps', 'M1', 'M2', 'M3', 'kxx', 'kxy', 'kxz', 'kyy', 'kyz', 'kzz', 'H']\n",
      "\n",
      "Variables available: dict_keys(['harmonic', 'phi2', 'psi4'])\n",
      "For variable harmonic:\n",
      "\n",
      "Avilable radii: [4.0, 8.0]\n",
      "\n",
      "At radius 4.0, (l, m) available: dict_keys([(0, 0), (1, -1), (1, 0), (1, 1), (2, -1), (2, -2), (2, 0), (2, 1), (2, 2)])\n",
      "At radius 8.0, (l, m) available: dict_keys([(0, 0), (1, -1), (1, 0), (1, 1), (2, -1), (2, -2), (2, 0), (2, 1), (2, 2)])\n",
      "\n",
      "For variable phi2:\n",
      "\n",
      "Avilable radii: [77.93, 140.16, 110.69, 48.95, 67.88, 91.46, 53.96, 44.78, 60.13, 191.0]\n",
      "\n",
      "At radius 44.78, (l, m) available: dict_keys([(2, 0), (2, -1), (2, 1), (2, 2), (2, -2)]) (missing: [(1, 0), (0, 0), (1, -1), (1, 1)])\n",
      "At radius 48.95, (l, m) available: dict_keys([(2, 1), (2, 2), (2, -1), (2, 0), (2, -2)]) (missing: [(1, 0), (0, 0), (1, -1), (1, 1)])\n",
      "At radius 53.96, (l, m) available: dict_keys([(2, -1), (2, -2), (2, 2), (2, 1), (2, 0)]) (missing: [(1, 0), (0, 0), (1, -1), (1, 1)])\n",
      "At radius 60.13, (l, m) available: dict_keys([(2, 2), (2, 1), (2, -1), (2, 0), (2, -2)]) (missing: [(1, 0), (0, 0), (1, -1), (1, 1)])\n",
      "At radius 67.88, (l, m) available: dict_keys([(2, -1), (2, 2), (2, -2), (2, 1), (2, 0)]) (missing: [(1, 0), (0, 0), (1, -1), (1, 1)])\n",
      "At radius 77.93, (l, m) available: dict_keys([(2, -1), (2, 0), (2, -2), (2, 2), (2, 1)]) (missing: [(1, 0), (0, 0), (1, -1), (1, 1)])\n",
      "At radius 91.46, (l, m) available: dict_keys([(2, -1), (2, -2), (2, 1), (2, 2), (2, 0)]) (missing: [(1, 0), (0, 0), (1, -1), (1, 1)])\n",
      "At radius 110.69, (l, m) available: dict_keys([(2, -1), (2, 2), (2, -2), (2, 1), (2, 0)]) (missing: [(1, 0), (0, 0), (1, -1), (1, 1)])\n",
      "At radius 140.16, (l, m) available: dict_keys([(2, -1), (2, 2), (2, -2), (2, 0), (2, 1)]) (missing: [(1, 0), (0, 0), (1, -1), (1, 1)])\n",
      "At radius 191.0, (l, m) available: dict_keys([(2, 0), (2, -2), (2, -1), (2, 1), (2, 2)]) (missing: [(1, 0), (0, 0), (1, -1), (1, 1)])\n",
      "\n",
      "For variable psi4:\n",
      "\n",
      "Avilable radii: [110.69, 53.96, 91.46, 44.78, 191.0, 60.13, 140.16, 48.95, 77.93, 67.88]\n",
      "\n",
      "At radius 44.78, (l, m) available: dict_keys([(2, 0), (2, -1), (2, -2), (2, 1), (2, 2)]) (missing: [(1, 0), (0, 0), (1, -1), (1, 1)])\n",
      "At radius 48.95, (l, m) available: dict_keys([(2, 2), (2, 0), (2, -1), (2, 1), (2, -2)]) (missing: [(1, 0), (0, 0), (1, -1), (1, 1)])\n",
      "At radius 53.96, (l, m) available: dict_keys([(2, -1), (2, -2), (2, 2), (2, 1), (2, 0)]) (missing: [(1, 0), (0, 0), (1, -1), (1, 1)])\n",
      "At radius 60.13, (l, m) available: dict_keys([(2, -2), (2, 2), (2, -1), (2, 0), (2, 1)]) (missing: [(1, 0), (0, 0), (1, -1), (1, 1)])\n",
      "At radius 67.88, (l, m) available: dict_keys([(2, 2), (2, 1), (2, -2), (2, -1), (2, 0)]) (missing: [(1, 0), (0, 0), (1, -1), (1, 1)])\n",
      "At radius 77.93, (l, m) available: dict_keys([(2, 2), (2, -1), (2, -2), (2, 1), (2, 0)]) (missing: [(1, 0), (0, 0), (1, -1), (1, 1)])\n",
      "At radius 91.46, (l, m) available: dict_keys([(2, 1), (2, -1), (2, -2), (2, 0), (2, 2)]) (missing: [(1, 0), (0, 0), (1, -1), (1, 1)])\n",
      "At radius 110.69, (l, m) available: dict_keys([(2, -1), (2, 0), (2, 2), (2, 1), (2, -2)]) (missing: [(1, 0), (0, 0), (1, -1), (1, 1)])\n",
      "At radius 140.16, (l, m) available: dict_keys([(2, -2), (2, 1), (2, 0), (2, 2), (2, -1)]) (missing: [(1, 0), (0, 0), (1, -1), (1, 1)])\n",
      "At radius 191.0, (l, m) available: dict_keys([(2, 2), (2, 0), (2, -2), (2, 1), (2, -1)]) (missing: [(1, 0), (0, 0), (1, -1), (1, 1)])\n",
      "\n",
      "Available gravitational wave dataAvailable electromagnetic wave data\n",
      "Available grid data of dimension 1D (x): \n",
      "['rho', 'H', 'kxx', 'kxy', 'kxz', 'kyy', 'kyz', 'kzz', 'alp', 'gxx', 'gxy', 'gxz', 'gyy', 'gyz', 'gzz', 'press', 'M1', 'M2', 'M3', 'vel[0]', 'vel[1]', 'vel[2]', 'eps']\n",
      "\n",
      "\n",
      "Available grid data of dimension 1D (y): \n",
      "['alp', 'kxx', 'kxy', 'kxz', 'kyy', 'kyz', 'kzz', 'gxx', 'gxy', 'gxz', 'gyy', 'gyz', 'gzz', 'H', 'press', 'vel[0]', 'vel[1]', 'vel[2]', 'eps', 'rho', 'M1', 'M2', 'M3']\n",
      "\n",
      "\n",
      "Available grid data of dimension 1D (z): \n",
      "['alp', 'gxx', 'gxy', 'gxz', 'gyy', 'gyz', 'gzz', 'eps', 'M1', 'M2', 'M3', 'H', 'vel[0]', 'vel[1]', 'vel[2]', 'kxx', 'kxy', 'kxz', 'kyy', 'kyz', 'kzz', 'rho', 'press']\n",
      "\n",
      "\n",
      "Available grid data of dimension 2D (xy): \n",
      "['rho', 'vel[0]', 'vel[1]', 'vel[2]']\n",
      "\n",
      "\n",
      "Available grid data of dimension 2D (xz): \n",
      "['vel[2]', 'vel[1]', 'vel[0]', 'rho']\n",
      "\n",
      "\n",
      "Available grid data of dimension 2D (yz): \n",
      "['vel[0]', 'vel[1]', 'vel[2]', 'rho']\n",
      "\n",
      "\n",
      "Available grid data of dimension 3D (xyz): \n",
      "['vel[0]', 'vel[2]', 'vel[1]', 'rho', 'mp_harmonic']\n",
      "No horizon found\n"
     ]
    }
   ],
   "source": [
    "with sd.SimDir(\"../../tests/tov\", pickle_file=\"/tmp/sim.pickle\") as sim2:\n",
    "    print(sim2)"
   ]
  },
  {
   "cell_type": "markdown",
   "metadata": {},
   "source": [
    "When this code is run, `kuibit` checks if a pickle file exists in `/tmp/sim.pickle`. If yes, it will load it, effectively \"resuming a previous session\". At the end of the `with` block, the file is updated with the new work done. If the file did not exist initially, it will be created.\n",
    "\n",
    "It is important to be careful when working with pickles as the risk of stale objects is high. If the data is changing (e.g., new restarts are added), it is likely that it will result in errors. \n",
    "\n",
    "It is always possible to save the state of a `SimDir` using the `save` method and reads back the data with the `load_SimDir` function"
   ]
  },
  {
   "cell_type": "code",
   "execution_count": 5,
   "metadata": {
    "execution": {
     "iopub.execute_input": "2021-08-09T23:27:43.194146Z",
     "iopub.status.busy": "2021-08-09T23:27:43.188889Z",
     "iopub.status.idle": "2021-08-09T23:27:43.200867Z",
     "shell.execute_reply": "2021-08-09T23:27:43.201406Z"
    }
   },
   "outputs": [],
   "source": [
    "sim.save(\"/tmp/saved.pickle\") # The filename can be anything\n",
    "sim3 = sd.load_SimDir(\"/tmp/saved.pickle\")"
   ]
  },
  {
   "cell_type": "markdown",
   "metadata": {},
   "source": [
    "## Cactus_scalars\n",
    "The [cactus_scalars](../cactus_scalars.rst) module understands ASCII files as output by CarpetASCII. It supports all the reductions (maximum, minimum, ...), 0d files, as well as scalar data. Using regular expression on the header of the file, `cactus_scalars` can process one variable per file and multiple variables per file. In `SimDir`, you can access scalars with the `ts` or `timeseries` attributes. "
   ]
  },
  {
   "cell_type": "code",
   "execution_count": 6,
   "metadata": {
    "execution": {
     "iopub.execute_input": "2021-08-09T23:27:43.205369Z",
     "iopub.status.busy": "2021-08-09T23:27:43.204758Z",
     "iopub.status.idle": "2021-08-09T23:27:43.208613Z",
     "shell.execute_reply": "2021-08-09T23:27:43.208098Z"
    }
   },
   "outputs": [],
   "source": [
    "timeseries = sim.ts\n",
    "# equivalent: timeseries = sim.timeseries"
   ]
  },
  {
   "cell_type": "markdown",
   "metadata": {},
   "source": [
    "If we printed `timeseries`, we would find part of the output from `SimDir`. This is because the printed output from `SimDir` is obtained printing all the different submodules. Another way to see the available variable for a secific reduction is with the `keys` method:"
   ]
  },
  {
   "cell_type": "code",
   "execution_count": 7,
   "metadata": {
    "execution": {
     "iopub.execute_input": "2021-08-09T23:27:43.218702Z",
     "iopub.status.busy": "2021-08-09T23:27:43.216274Z",
     "iopub.status.idle": "2021-08-09T23:27:43.224513Z",
     "shell.execute_reply": "2021-08-09T23:27:43.223412Z"
    }
   },
   "outputs": [
    {
     "data": {
      "text/plain": [
       "dict_keys(['vel[0]', 'kxx', 'kxy', 'kxz', 'kyy', 'kyz', 'kzz', 'M1', 'M2', 'M3', 'press', 'alp', 'gxx', 'gxy', 'gxz', 'gyy', 'gyz', 'gzz', 'eps', 'rho', 'vel[1]', 'vel[2]', 'H'])"
      ]
     },
     "execution_count": 1,
     "metadata": {},
     "output_type": "execute_result"
    }
   ],
   "source": [
    "timeseries.maximum.keys()"
   ]
  },
  {
   "cell_type": "markdown",
   "metadata": {},
   "source": [
    "There are equivalent three different way to access those variables as [timeseries](../series.rst)."
   ]
  },
  {
   "cell_type": "code",
   "execution_count": 8,
   "metadata": {
    "execution": {
     "iopub.execute_input": "2021-08-09T23:27:43.229544Z",
     "iopub.status.busy": "2021-08-09T23:27:43.228914Z",
     "iopub.status.idle": "2021-08-09T23:27:43.232845Z",
     "shell.execute_reply": "2021-08-09T23:27:43.232330Z"
    }
   },
   "outputs": [],
   "source": [
    "rho_max1 = timeseries.maximum.fields.rho\n",
    "rho_max2 = timeseries.maximum['rho']\n",
    "rho_max3 = timeseries.maximum.get('rho')"
   ]
  },
  {
   "cell_type": "markdown",
   "metadata": {},
   "source": [
    "These objects are [timeseries](../series.rst), which are extremely convienent representation of data evolving in time. These series span multiple simulation restarts and have files in different folders: `kuibit` does all the hard work to find the files and combine them. Moreover, they `timeseries` have a lot of features, as you can see in the [timeseries tutorial](timeseries.ipynb)."
   ]
  }
 ],
 "metadata": {
  "kernelspec": {
   "display_name": "Python 3",
   "language": "python",
   "name": "python3"
  },
  "language_info": {
   "codemirror_mode": {
    "name": "ipython",
    "version": 3
   },
   "file_extension": ".py",
   "mimetype": "text/x-python",
   "name": "python",
   "nbconvert_exporter": "python",
   "pygments_lexer": "ipython3",
   "version": "3.6.14"
  }
 },
 "nbformat": 4,
 "nbformat_minor": 4
}
