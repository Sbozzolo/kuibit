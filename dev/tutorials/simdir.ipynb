{
 "cells": [
  {
   "cell_type": "markdown",
   "metadata": {},
   "source": [
    "# Working with Simulation Directories\n",
    "\n",
    "Analyzing simulation data is as important as running the simulation itself. In this notebook, we will see how we easily access all the data using the [SimDir](../simdir.rst) module.\n",
    "\n",
    "(This notebook is meant to be converted in Sphinx documentation and not used directly.)"
   ]
  },
  {
   "cell_type": "code",
   "execution_count": 1,
   "metadata": {
    "execution": {
     "iopub.execute_input": "2023-05-02T17:52:14.326012Z",
     "iopub.status.busy": "2023-05-02T17:52:14.325661Z",
     "iopub.status.idle": "2023-05-02T17:52:14.824788Z",
     "shell.execute_reply": "2023-05-02T17:52:14.823689Z"
    }
   },
   "outputs": [],
   "source": [
    "from kuibit import simdir as sd"
   ]
  },
  {
   "cell_type": "markdown",
   "metadata": {},
   "source": [
    "Loading simulation data is as easy as generating `SimDir` objects. Just provide the path, and kuibit will do the rest."
   ]
  },
  {
   "cell_type": "code",
   "execution_count": 2,
   "metadata": {
    "execution": {
     "iopub.execute_input": "2023-05-02T17:52:14.830480Z",
     "iopub.status.busy": "2023-05-02T17:52:14.829815Z",
     "iopub.status.idle": "2023-05-02T17:52:14.848052Z",
     "shell.execute_reply": "2023-05-02T17:52:14.846918Z"
    }
   },
   "outputs": [],
   "source": [
    "sim = sd.SimDir(\"../../tests/tov\")"
   ]
  },
  {
   "cell_type": "markdown",
   "metadata": {},
   "source": [
    "We can get an overview of what is available by printing `sim`:"
   ]
  },
  {
   "cell_type": "code",
   "execution_count": 3,
   "metadata": {
    "execution": {
     "iopub.execute_input": "2023-05-02T17:52:14.853210Z",
     "iopub.status.busy": "2023-05-02T17:52:14.852584Z",
     "iopub.status.idle": "2023-05-02T17:52:15.045662Z",
     "shell.execute_reply": "2023-05-02T17:52:15.044123Z"
    }
   },
   "outputs": [
    {
     "name": "stdout",
     "output_type": "stream",
     "text": [
      "Indexed 450 files and 5 subdirectories\n",
      "Folder /home/runner/work/kuibit/kuibit/tests/tov\n",
      "/home/runner/work/kuibit/kuibit/tests/tov\n",
      "Available scalar timeseries:\n",
      "['physical_time_per_hour', 'current_physical_time_per_hour', 'time_total', 'time_evolution', 'time_computing', 'time_communicating', 'time_io', 'evolution_steps_count', 'local_grid_points_per_second', 'total_grid_points_per_second', 'local_grid_point_updates_count', 'total_grid_point_updates_count', 'local_interior_points_per_second', 'total_interior_points_per_second', 'local_interior_point_updates_count', 'total_interior_point_updates_count', 'io_per_second', 'io_bytes_per_second', 'io_bytes_ascii_per_second', 'io_bytes_binary_per_second', 'io_count', 'io_bytes_count', 'io_bytes_ascii_count', 'io_bytes_binary_count', 'comm_per_second', 'comm_bytes_per_second', 'comm_count', 'comm_bytes_count', 'time_levels']\n",
      "\n",
      "Available minimum timeseries:\n",
      "['M1', 'M2', 'M3', 'vel[0]', 'vel[1]', 'vel[2]', 'press', 'kxx', 'kxy', 'kxz', 'kyy', 'kyz', 'kzz', 'eps', 'alp', 'H', 'gxx', 'gxy', 'gxz', 'gyy', 'gyz', 'gzz', 'rho']\n",
      "\n",
      "Available maximum timeseries:\n",
      "['H', 'alp', 'vel[0]', 'vel[1]', 'vel[2]', 'eps', 'gxx', 'gxy', 'gxz', 'gyy', 'gyz', 'gzz', 'press', 'rho', 'kxx', 'kxy', 'kxz', 'kyy', 'kyz', 'kzz', 'M1', 'M2', 'M3']\n",
      "\n",
      "Available norm1 timeseries:\n",
      "['rho', 'gxx', 'gxy', 'gxz', 'gyy', 'gyz', 'gzz', 'vel[0]', 'vel[1]', 'vel[2]', 'eps', 'kxx', 'kxy', 'kxz', 'kyy', 'kyz', 'kzz', 'alp', 'H', 'press', 'M1', 'M2', 'M3']\n",
      "\n",
      "Available norm2 timeseries:\n",
      "['eps', 'kxx', 'kxy', 'kxz', 'kyy', 'kyz', 'kzz', 'press', 'M1', 'M2', 'M3', 'H', 'alp', 'vel[0]', 'vel[1]', 'vel[2]', 'rho', 'gxx', 'gxy', 'gxz', 'gyy', 'gyz', 'gzz']\n",
      "\n",
      "Available average timeseries:\n",
      "['M1', 'M2', 'M3', 'gxx', 'gxy', 'gxz', 'gyy', 'gyz', 'gzz', 'rho', 'eps', 'alp', 'kxx', 'kxy', 'kxz', 'kyy', 'kyz', 'kzz', 'H', 'vel[0]', 'vel[1]', 'vel[2]', 'press']\n",
      "Variables available: dict_keys(['harmonic', 'phi2', 'psi4'])\n",
      "For variable harmonic:\n",
      "\n",
      "Avilable radii: [4.0, 8.0]\n",
      "\n",
      "At radius 4.0, (l, m) available: [(0, 0), (1, -1), (1, 0), (1, 1), (2, -1), (2, -2), (2, 0), (2, 1), (2, 2)]\n",
      "At radius 8.0, (l, m) available: [(0, 0), (1, -1), (1, 0), (1, 1), (2, -1), (2, -2), (2, 0), (2, 1), (2, 2)]\n",
      "\n",
      "For variable phi2:\n",
      "\n",
      "Avilable radii: [140.16, 91.46, 53.96, 44.78, 48.95, 191.0, 110.69, 67.88, 60.13, 77.93]\n",
      "\n",
      "At radius 44.78, (l, m) available: [(2, 2), (2, -1), (2, -2), (2, 0), (2, 1)] (missing: [(1, 0), (0, 0), (1, -1), (1, 1)])\n",
      "At radius 48.95, (l, m) available: [(2, 0), (2, -1), (2, -2), (2, 2), (2, 1)] (missing: [(1, 0), (0, 0), (1, -1), (1, 1)])\n",
      "At radius 53.96, (l, m) available: [(2, -1), (2, 1), (2, 2), (2, -2), (2, 0)] (missing: [(1, 0), (0, 0), (1, -1), (1, 1)])\n",
      "At radius 60.13, (l, m) available: [(2, 1), (2, 2), (2, -2), (2, -1), (2, 0)] (missing: [(1, 0), (0, 0), (1, -1), (1, 1)])\n",
      "At radius 67.88, (l, m) available: [(2, 1), (2, 0), (2, -1), (2, -2), (2, 2)] (missing: [(1, 0), (0, 0), (1, -1), (1, 1)])\n",
      "At radius 77.93, (l, m) available: [(2, -1), (2, -2), (2, 1), (2, 0), (2, 2)] (missing: [(1, 0), (0, 0), (1, -1), (1, 1)])\n",
      "At radius 91.46, (l, m) available: [(2, 2), (2, 1), (2, 0), (2, -1), (2, -2)] (missing: [(1, 0), (0, 0), (1, -1), (1, 1)])\n",
      "At radius 110.69, (l, m) available: [(2, 0), (2, 2), (2, 1), (2, -1), (2, -2)] (missing: [(1, 0), (0, 0), (1, -1), (1, 1)])\n",
      "At radius 140.16, (l, m) available: [(2, 0), (2, 1), (2, 2), (2, -2), (2, -1)] (missing: [(1, 0), (0, 0), (1, -1), (1, 1)])\n",
      "At radius 191.0, (l, m) available: [(2, 1), (2, 2), (2, -2), (2, -1), (2, 0)] (missing: [(1, 0), (0, 0), (1, -1), (1, 1)])\n",
      "\n",
      "For variable psi4:\n",
      "\n",
      "Avilable radii: [44.78, 140.16, 48.95, 77.93, 191.0, 53.96, 67.88, 91.46, 60.13, 110.69]\n",
      "\n",
      "At radius 44.78, (l, m) available: [(2, 0), (2, -1), (2, 1), (2, 2), (2, -2)] (missing: [(1, 0), (0, 0), (1, -1), (1, 1)])\n",
      "At radius 48.95, (l, m) available: [(2, -2), (2, 0), (2, -1), (2, 2), (2, 1)] (missing: [(1, 0), (0, 0), (1, -1), (1, 1)])\n",
      "At radius 53.96, (l, m) available: [(2, -2), (2, 0), (2, -1), (2, 2), (2, 1)] (missing: [(1, 0), (0, 0), (1, -1), (1, 1)])\n",
      "At radius 60.13, (l, m) available: [(2, 2), (2, -1), (2, 1), (2, 0), (2, -2)] (missing: [(1, 0), (0, 0), (1, -1), (1, 1)])\n",
      "At radius 67.88, (l, m) available: [(2, 2), (2, 1), (2, -1), (2, -2), (2, 0)] (missing: [(1, 0), (0, 0), (1, -1), (1, 1)])\n",
      "At radius 77.93, (l, m) available: [(2, -2), (2, 0), (2, -1), (2, 2), (2, 1)] (missing: [(1, 0), (0, 0), (1, -1), (1, 1)])\n",
      "At radius 91.46, (l, m) available: [(2, -1), (2, 2), (2, 1), (2, -2), (2, 0)] (missing: [(1, 0), (0, 0), (1, -1), (1, 1)])\n",
      "At radius 110.69, (l, m) available: [(2, -2), (2, 1), (2, 0), (2, -1), (2, 2)] (missing: [(1, 0), (0, 0), (1, -1), (1, 1)])\n",
      "At radius 140.16, (l, m) available: [(2, -1), (2, 1), (2, 0), (2, 2), (2, -2)] (missing: [(1, 0), (0, 0), (1, -1), (1, 1)])\n",
      "At radius 191.0, (l, m) available: [(2, 2), (2, 1), (2, 0), (2, -1), (2, -2)] (missing: [(1, 0), (0, 0), (1, -1), (1, 1)])\n",
      "\n",
      "Available gravitational wave dataAvailable electromagnetic wave data\n",
      "Available grid data of dimension 1D (x): \n",
      "['gxx', 'gxy', 'gxz', 'gyy', 'gyz', 'gzz', 'rho', 'M1', 'M2', 'M3', 'kxx', 'kxy', 'kxz', 'kyy', 'kyz', 'kzz', 'press', 'eps', 'vel[0]', 'vel[1]', 'vel[2]', 'H', 'alp']\n",
      "\n",
      "\n",
      "Available grid data of dimension 1D (y): \n",
      "['rho', 'kxx', 'kxy', 'kxz', 'kyy', 'kyz', 'kzz', 'alp', 'eps', 'press', 'vel[0]', 'vel[1]', 'vel[2]', 'M1', 'M2', 'M3', 'gxx', 'gxy', 'gxz', 'gyy', 'gyz', 'gzz', 'H']\n",
      "\n",
      "\n",
      "Available grid data of dimension 1D (z): \n",
      "['press', 'H', 'vel[0]', 'vel[1]', 'vel[2]', 'gxx', 'gxy', 'gxz', 'gyy', 'gyz', 'gzz', 'eps', 'alp', 'kxx', 'kxy', 'kxz', 'kyy', 'kyz', 'kzz', 'M1', 'M2', 'M3', 'rho']\n",
      "\n",
      "\n",
      "Available grid data of dimension 2D (xy): \n",
      "['vel[1]', 'vel[2]', 'vel[0]', 'rho']\n",
      "\n",
      "\n",
      "Available grid data of dimension 2D (xz): \n",
      "['vel[0]', 'vel[1]', 'vel[2]', 'rho']\n",
      "\n",
      "\n",
      "Available grid data of dimension 2D (yz): \n",
      "['vel[2]', 'rho', 'vel[0]', 'vel[1]']\n",
      "\n",
      "\n",
      "Available grid data of dimension 3D (xyz): \n",
      "['vel[1]', 'rho', 'vel[2]', 'vel[0]', 'mp_harmonic']\n",
      "No horizon found\n",
      "Timers available for processes [0, 1]\n"
     ]
    }
   ],
   "source": [
    "print(sim)"
   ]
  },
  {
   "cell_type": "markdown",
   "metadata": {},
   "source": [
    "This is a long output because we have a lot of available data! Everything that is printed is the output is easily accessible through `SimDir`. Moreover, the loading of data is lazy and the result is cached: computations are done only when needed, and all the subsequent calls will be immediate.\n",
    "\n",
    "If you have thorns with custom output, you have to extend `kuibit` to analyze them. `SimDir` has multiple submodules to handle the different kind of data. Let us explore them."
   ]
  },
  {
   "cell_type": "markdown",
   "metadata": {},
   "source": [
    "## SimDir and pickles"
   ]
  },
  {
   "cell_type": "markdown",
   "metadata": {},
   "source": [
    "`SimDir` performs some operations only when they needed. This work has be done every time the Python interpreter is killed. In some cases, it is useful to save the progress to files, resulting in faster execution times. This can be done with pickles. The simplest way to do so is as follows."
   ]
  },
  {
   "cell_type": "code",
   "execution_count": 4,
   "metadata": {
    "execution": {
     "iopub.execute_input": "2023-05-02T17:52:15.049962Z",
     "iopub.status.busy": "2023-05-02T17:52:15.049665Z",
     "iopub.status.idle": "2023-05-02T17:52:15.258181Z",
     "shell.execute_reply": "2023-05-02T17:52:15.257113Z"
    },
    "scrolled": true
   },
   "outputs": [
    {
     "name": "stdout",
     "output_type": "stream",
     "text": [
      "Indexed 450 files and 5 subdirectories\n",
      "Folder /home/runner/work/kuibit/kuibit/tests/tov\n",
      "/home/runner/work/kuibit/kuibit/tests/tov\n",
      "Available scalar timeseries:\n",
      "['physical_time_per_hour', 'current_physical_time_per_hour', 'time_total', 'time_evolution', 'time_computing', 'time_communicating', 'time_io', 'evolution_steps_count', 'local_grid_points_per_second', 'total_grid_points_per_second', 'local_grid_point_updates_count', 'total_grid_point_updates_count', 'local_interior_points_per_second', 'total_interior_points_per_second', 'local_interior_point_updates_count', 'total_interior_point_updates_count', 'io_per_second', 'io_bytes_per_second', 'io_bytes_ascii_per_second', 'io_bytes_binary_per_second', 'io_count', 'io_bytes_count', 'io_bytes_ascii_count', 'io_bytes_binary_count', 'comm_per_second', 'comm_bytes_per_second', 'comm_count', 'comm_bytes_count', 'time_levels']\n",
      "\n",
      "Available minimum timeseries:\n",
      "['M1', 'M2', 'M3', 'vel[0]', 'vel[1]', 'vel[2]', 'press', 'kxx', 'kxy', 'kxz', 'kyy', 'kyz', 'kzz', 'eps', 'alp', 'H', 'gxx', 'gxy', 'gxz', 'gyy', 'gyz', 'gzz', 'rho']\n",
      "\n",
      "Available maximum timeseries:\n",
      "['H', 'alp', 'vel[0]', 'vel[1]', 'vel[2]', 'eps', 'gxx', 'gxy', 'gxz', 'gyy', 'gyz', 'gzz', 'press', 'rho', 'kxx', 'kxy', 'kxz', 'kyy', 'kyz', 'kzz', 'M1', 'M2', 'M3']\n",
      "\n",
      "Available norm1 timeseries:\n",
      "['rho', 'gxx', 'gxy', 'gxz', 'gyy', 'gyz', 'gzz', 'vel[0]', 'vel[1]', 'vel[2]', 'eps', 'kxx', 'kxy', 'kxz', 'kyy', 'kyz', 'kzz', 'alp', 'H', 'press', 'M1', 'M2', 'M3']\n",
      "\n",
      "Available norm2 timeseries:\n",
      "['eps', 'kxx', 'kxy', 'kxz', 'kyy', 'kyz', 'kzz', 'press', 'M1', 'M2', 'M3', 'H', 'alp', 'vel[0]', 'vel[1]', 'vel[2]', 'rho', 'gxx', 'gxy', 'gxz', 'gyy', 'gyz', 'gzz']\n",
      "\n",
      "Available average timeseries:\n",
      "['M1', 'M2', 'M3', 'gxx', 'gxy', 'gxz', 'gyy', 'gyz', 'gzz', 'rho', 'eps', 'alp', 'kxx', 'kxy', 'kxz', 'kyy', 'kyz', 'kzz', 'H', 'vel[0]', 'vel[1]', 'vel[2]', 'press']\n",
      "Variables available: dict_keys(['harmonic', 'phi2', 'psi4'])\n",
      "For variable harmonic:\n",
      "\n",
      "Avilable radii: [4.0, 8.0]\n",
      "\n",
      "At radius 4.0, (l, m) available: [(0, 0), (1, -1), (1, 0), (1, 1), (2, -1), (2, -2), (2, 0), (2, 1), (2, 2)]\n",
      "At radius 8.0, (l, m) available: [(0, 0), (1, -1), (1, 0), (1, 1), (2, -1), (2, -2), (2, 0), (2, 1), (2, 2)]\n",
      "\n",
      "For variable phi2:\n",
      "\n",
      "Avilable radii: [140.16, 91.46, 53.96, 44.78, 48.95, 191.0, 110.69, 67.88, 60.13, 77.93]\n",
      "\n",
      "At radius 44.78, (l, m) available: [(2, 2), (2, -1), (2, -2), (2, 0), (2, 1)] (missing: [(1, 0), (0, 0), (1, -1), (1, 1)])\n",
      "At radius 48.95, (l, m) available: [(2, 0), (2, -1), (2, -2), (2, 2), (2, 1)] (missing: [(1, 0), (0, 0), (1, -1), (1, 1)])\n",
      "At radius 53.96, (l, m) available: [(2, -1), (2, 1), (2, 2), (2, -2), (2, 0)] (missing: [(1, 0), (0, 0), (1, -1), (1, 1)])\n",
      "At radius 60.13, (l, m) available: [(2, 1), (2, 2), (2, -2), (2, -1), (2, 0)] (missing: [(1, 0), (0, 0), (1, -1), (1, 1)])\n",
      "At radius 67.88, (l, m) available: [(2, 1), (2, 0), (2, -1), (2, -2), (2, 2)] (missing: [(1, 0), (0, 0), (1, -1), (1, 1)])\n",
      "At radius 77.93, (l, m) available: [(2, -1), (2, -2), (2, 1), (2, 0), (2, 2)] (missing: [(1, 0), (0, 0), (1, -1), (1, 1)])\n",
      "At radius 91.46, (l, m) available: [(2, 2), (2, 1), (2, 0), (2, -1), (2, -2)] (missing: [(1, 0), (0, 0), (1, -1), (1, 1)])\n",
      "At radius 110.69, (l, m) available: [(2, 0), (2, 2), (2, 1), (2, -1), (2, -2)] (missing: [(1, 0), (0, 0), (1, -1), (1, 1)])\n",
      "At radius 140.16, (l, m) available: [(2, 0), (2, 1), (2, 2), (2, -2), (2, -1)] (missing: [(1, 0), (0, 0), (1, -1), (1, 1)])\n",
      "At radius 191.0, (l, m) available: [(2, 1), (2, 2), (2, -2), (2, -1), (2, 0)] (missing: [(1, 0), (0, 0), (1, -1), (1, 1)])\n",
      "\n",
      "For variable psi4:\n",
      "\n",
      "Avilable radii: [44.78, 140.16, 48.95, 77.93, 191.0, 53.96, 67.88, 91.46, 60.13, 110.69]\n",
      "\n",
      "At radius 44.78, (l, m) available: [(2, 0), (2, -1), (2, 1), (2, 2), (2, -2)] (missing: [(1, 0), (0, 0), (1, -1), (1, 1)])\n",
      "At radius 48.95, (l, m) available: [(2, -2), (2, 0), (2, -1), (2, 2), (2, 1)] (missing: [(1, 0), (0, 0), (1, -1), (1, 1)])\n",
      "At radius 53.96, (l, m) available: [(2, -2), (2, 0), (2, -1), (2, 2), (2, 1)] (missing: [(1, 0), (0, 0), (1, -1), (1, 1)])\n",
      "At radius 60.13, (l, m) available: [(2, 2), (2, -1), (2, 1), (2, 0), (2, -2)] (missing: [(1, 0), (0, 0), (1, -1), (1, 1)])\n",
      "At radius 67.88, (l, m) available: [(2, 2), (2, 1), (2, -1), (2, -2), (2, 0)] (missing: [(1, 0), (0, 0), (1, -1), (1, 1)])\n",
      "At radius 77.93, (l, m) available: [(2, -2), (2, 0), (2, -1), (2, 2), (2, 1)] (missing: [(1, 0), (0, 0), (1, -1), (1, 1)])\n",
      "At radius 91.46, (l, m) available: [(2, -1), (2, 2), (2, 1), (2, -2), (2, 0)] (missing: [(1, 0), (0, 0), (1, -1), (1, 1)])\n",
      "At radius 110.69, (l, m) available: [(2, -2), (2, 1), (2, 0), (2, -1), (2, 2)] (missing: [(1, 0), (0, 0), (1, -1), (1, 1)])\n",
      "At radius 140.16, (l, m) available: [(2, -1), (2, 1), (2, 0), (2, 2), (2, -2)] (missing: [(1, 0), (0, 0), (1, -1), (1, 1)])\n",
      "At radius 191.0, (l, m) available: [(2, 2), (2, 1), (2, 0), (2, -1), (2, -2)] (missing: [(1, 0), (0, 0), (1, -1), (1, 1)])\n",
      "\n",
      "Available gravitational wave dataAvailable electromagnetic wave data\n",
      "Available grid data of dimension 1D (x): \n",
      "['gxx', 'gxy', 'gxz', 'gyy', 'gyz', 'gzz', 'rho', 'M1', 'M2', 'M3', 'kxx', 'kxy', 'kxz', 'kyy', 'kyz', 'kzz', 'press', 'eps', 'vel[0]', 'vel[1]', 'vel[2]', 'H', 'alp']\n",
      "\n",
      "\n",
      "Available grid data of dimension 1D (y): \n",
      "['rho', 'kxx', 'kxy', 'kxz', 'kyy', 'kyz', 'kzz', 'alp', 'eps', 'press', 'vel[0]', 'vel[1]', 'vel[2]', 'M1', 'M2', 'M3', 'gxx', 'gxy', 'gxz', 'gyy', 'gyz', 'gzz', 'H']\n",
      "\n",
      "\n",
      "Available grid data of dimension 1D (z): \n",
      "['press', 'H', 'vel[0]', 'vel[1]', 'vel[2]', 'gxx', 'gxy', 'gxz', 'gyy', 'gyz', 'gzz', 'eps', 'alp', 'kxx', 'kxy', 'kxz', 'kyy', 'kyz', 'kzz', 'M1', 'M2', 'M3', 'rho']\n",
      "\n",
      "\n",
      "Available grid data of dimension 2D (xy): \n",
      "['vel[1]', 'vel[2]', 'vel[0]', 'rho']\n",
      "\n",
      "\n",
      "Available grid data of dimension 2D (xz): \n",
      "['vel[0]', 'vel[1]', 'vel[2]', 'rho']\n",
      "\n",
      "\n",
      "Available grid data of dimension 2D (yz): \n",
      "['vel[2]', 'rho', 'vel[0]', 'vel[1]']\n",
      "\n",
      "\n",
      "Available grid data of dimension 3D (xyz): \n",
      "['vel[1]', 'rho', 'vel[2]', 'vel[0]', 'mp_harmonic']\n",
      "No horizon found\n",
      "Timers available for processes [0, 1]"
     ]
    },
    {
     "name": "stdout",
     "output_type": "stream",
     "text": [
      "\n"
     ]
    }
   ],
   "source": [
    "with sd.SimDir(\"../../tests/tov\", pickle_file=\"/tmp/sim.pickle\") as sim2:\n",
    "    print(sim2)"
   ]
  },
  {
   "cell_type": "markdown",
   "metadata": {},
   "source": [
    "When this code is run, `kuibit` checks if a pickle file exists in `/tmp/sim.pickle`. If yes, it will load it, effectively \"resuming a previous session\". At the end of the `with` block, the file is updated with the new work done. If the file did not exist initially, it will be created.\n",
    "\n",
    "It is important to be careful when working with pickles as the risk of stale objects is high. If the data is changing (e.g., new restarts are added), it is likely that it will result in errors. \n",
    "\n",
    "It is always possible to save the state of a `SimDir` using the `save` method and reads back the data with the `load_SimDir` function"
   ]
  },
  {
   "cell_type": "code",
   "execution_count": 5,
   "metadata": {
    "execution": {
     "iopub.execute_input": "2023-05-02T17:52:15.263084Z",
     "iopub.status.busy": "2023-05-02T17:52:15.262334Z",
     "iopub.status.idle": "2023-05-02T17:52:15.275895Z",
     "shell.execute_reply": "2023-05-02T17:52:15.274903Z"
    }
   },
   "outputs": [],
   "source": [
    "sim.save(\"/tmp/saved.pickle\") # The filename can be anything\n",
    "sim3 = sd.load_SimDir(\"/tmp/saved.pickle\")"
   ]
  },
  {
   "cell_type": "markdown",
   "metadata": {},
   "source": [
    "## `cactus_scalars`\n",
    "The [cactus_scalars](../cactus_scalars.rst) module understands ASCII files as output by CarpetASCII. It supports all the reductions (maximum, minimum, ...), 0d files, as well as scalar data. Using regular expression on the header of the file, `cactus_scalars` can process one variable per file and multiple variables per file. In `SimDir`, you can access scalars with the `ts` or `timeseries` attributes. "
   ]
  },
  {
   "cell_type": "code",
   "execution_count": 6,
   "metadata": {
    "execution": {
     "iopub.execute_input": "2023-05-02T17:52:15.280601Z",
     "iopub.status.busy": "2023-05-02T17:52:15.280267Z",
     "iopub.status.idle": "2023-05-02T17:52:15.285080Z",
     "shell.execute_reply": "2023-05-02T17:52:15.283947Z"
    }
   },
   "outputs": [],
   "source": [
    "timeseries = sim.ts\n",
    "# equivalent: timeseries = sim.timeseries"
   ]
  },
  {
   "cell_type": "markdown",
   "metadata": {},
   "source": [
    "If we printed `timeseries`, we would find part of the output from `SimDir`. This is because the printed output from `SimDir` is obtained printing all the different submodules. Another way to see the available variable for a secific reduction is with the `keys` method:"
   ]
  },
  {
   "cell_type": "code",
   "execution_count": 7,
   "metadata": {
    "execution": {
     "iopub.execute_input": "2023-05-02T17:52:15.289372Z",
     "iopub.status.busy": "2023-05-02T17:52:15.289061Z",
     "iopub.status.idle": "2023-05-02T17:52:15.299647Z",
     "shell.execute_reply": "2023-05-02T17:52:15.298522Z"
    }
   },
   "outputs": [
    {
     "data": {
      "text/plain": [
       "dict_keys(['H', 'alp', 'vel[0]', 'vel[1]', 'vel[2]', 'eps', 'gxx', 'gxy', 'gxz', 'gyy', 'gyz', 'gzz', 'press', 'rho', 'kxx', 'kxy', 'kxz', 'kyy', 'kyz', 'kzz', 'M1', 'M2', 'M3'])"
      ]
     },
     "execution_count": 7,
     "metadata": {},
     "output_type": "execute_result"
    }
   ],
   "source": [
    "timeseries.maximum.keys()"
   ]
  },
  {
   "cell_type": "markdown",
   "metadata": {},
   "source": [
    "There are equivalent three different way to access those variables as [timeseries](../series.rst). The different methods are nearly equivalent."
   ]
  },
  {
   "cell_type": "code",
   "execution_count": 8,
   "metadata": {
    "execution": {
     "iopub.execute_input": "2023-05-02T17:52:15.305652Z",
     "iopub.status.busy": "2023-05-02T17:52:15.304825Z",
     "iopub.status.idle": "2023-05-02T17:52:15.313502Z",
     "shell.execute_reply": "2023-05-02T17:52:15.312301Z"
    }
   },
   "outputs": [],
   "source": [
    "rho_max1 = timeseries.maximum.fields.rho\n",
    "rho_max2 = timeseries.maximum['rho']\n",
    "rho_max3 = timeseries.maximum.get('rho')"
   ]
  },
  {
   "cell_type": "markdown",
   "metadata": {},
   "source": [
    "These objects are [timeseries](../series.rst), which are extremely convienent representation of data evolving in time. These series span multiple simulation restarts and have files in different folders: `kuibit` does all the hard work to find the files and combine them. Moreover, they `timeseries` have a lot of features, as you can see in the [timeseries tutorial](timeseries.ipynb)."
   ]
  },
  {
   "cell_type": "markdown",
   "metadata": {},
   "source": [
    "## `cactus_multipoles` and `cactus_waves`"
   ]
  },
  {
   "cell_type": "markdown",
   "metadata": {},
   "source": [
    "Gravitational waves are one of the most important quantities in numerical relativity simulations. Typically, these are computed using the Newman-Penrose formalism and extracted in terms of their multipolar components. `kuibit` fully supports the `Multipole` thorn with the [cactus_multipoles](../cactus_multipoles.rst) module. The `sim.multipoles` attribute contains multipolar data. This is a dictionary-like object with keys the various variable for which multipolar data is available."
   ]
  },
  {
   "cell_type": "code",
   "execution_count": 9,
   "metadata": {
    "execution": {
     "iopub.execute_input": "2023-05-02T17:52:15.318730Z",
     "iopub.status.busy": "2023-05-02T17:52:15.317961Z",
     "iopub.status.idle": "2023-05-02T17:52:15.325541Z",
     "shell.execute_reply": "2023-05-02T17:52:15.324384Z"
    }
   },
   "outputs": [
    {
     "name": "stdout",
     "output_type": "stream",
     "text": [
      "dict_keys(['harmonic', 'phi2', 'psi4'])\n"
     ]
    }
   ],
   "source": [
    "print(sim.multipoles.keys())"
   ]
  },
  {
   "cell_type": "markdown",
   "metadata": {},
   "source": [
    "Once a variable is selected, the returned object is once again a dictionary with keys the various extracion radii."
   ]
  },
  {
   "cell_type": "code",
   "execution_count": 10,
   "metadata": {
    "execution": {
     "iopub.execute_input": "2023-05-02T17:52:15.330752Z",
     "iopub.status.busy": "2023-05-02T17:52:15.330232Z",
     "iopub.status.idle": "2023-05-02T17:52:15.338348Z",
     "shell.execute_reply": "2023-05-02T17:52:15.337335Z"
    }
   },
   "outputs": [
    {
     "name": "stdout",
     "output_type": "stream",
     "text": [
      "dict_keys([140.16, 91.46, 53.96, 44.78, 48.95, 191.0, 110.69, 67.88, 60.13, 77.93])\n",
      "{(2, -2), (2, -1), (2, 1), (2, 0), (2, 2)}\n"
     ]
    }
   ],
   "source": [
    "print(sim.multipoles[\"phi2\"].keys())\n",
    "phi2_0 = sim.multipoles[\"phi2\"][91.46]\n",
    "\n",
    "print(phi2_0.available_lm)"
   ]
  },
  {
   "cell_type": "markdown",
   "metadata": {},
   "source": [
    "Selected the extraction radius, the variable contains all the various multipole l and m available. (HDF5 data is preferred in this.) Each component is then a timeseries."
   ]
  },
  {
   "cell_type": "code",
   "execution_count": 11,
   "metadata": {
    "execution": {
     "iopub.execute_input": "2023-05-02T17:52:15.342786Z",
     "iopub.status.busy": "2023-05-02T17:52:15.342129Z",
     "iopub.status.idle": "2023-05-02T17:52:15.349574Z",
     "shell.execute_reply": "2023-05-02T17:52:15.348678Z"
    }
   },
   "outputs": [
    {
     "name": "stdout",
     "output_type": "stream",
     "text": [
      "<class 'kuibit.timeseries.TimeSeries'>\n"
     ]
    }
   ],
   "source": [
    "phi2_0_22 = phi2_0[2,2]\n",
    "print(type(phi2_0_22))"
   ]
  },
  {
   "cell_type": "markdown",
   "metadata": {},
   "source": [
    "Gravitational waves have a dedicated interface that is based on `cactus_multipole` and adds new specific features. Gravitational waves can be accessed with the `.gravitationalwaves` or `.gws` attributes."
   ]
  },
  {
   "cell_type": "code",
   "execution_count": 12,
   "metadata": {
    "execution": {
     "iopub.execute_input": "2023-05-02T17:52:15.354599Z",
     "iopub.status.busy": "2023-05-02T17:52:15.353828Z",
     "iopub.status.idle": "2023-05-02T17:52:15.362750Z",
     "shell.execute_reply": "2023-05-02T17:52:15.361717Z"
    }
   },
   "outputs": [
    {
     "name": "stdout",
     "output_type": "stream",
     "text": [
      "Max GW power for l = 2, m = 2: 1713.080999815251\n"
     ]
    }
   ],
   "source": [
    "psi4 = sim.gws\n",
    "\n",
    "radius0 = psi4.radii[0]\n",
    "\n",
    "# Example of specific function\n",
    "print(\"Max GW power for l = 2, m = 2:\", psi4[radius0].get_power_lm(2, 2, 100).max())"
   ]
  },
  {
   "cell_type": "markdown",
   "metadata": {},
   "source": [
    "## `cactus_grid_functions`\n",
    "\n",
    "The `.gridfunctions` (or `.gf`) attribute is used to access grid data, using the [cactus_grid_functions](../grid_data.rst) module. The structure is similar to time series. "
   ]
  },
  {
   "cell_type": "code",
   "execution_count": 13,
   "metadata": {
    "execution": {
     "iopub.execute_input": "2023-05-02T17:52:15.366979Z",
     "iopub.status.busy": "2023-05-02T17:52:15.366424Z",
     "iopub.status.idle": "2023-05-02T17:52:15.371964Z",
     "shell.execute_reply": "2023-05-02T17:52:15.370804Z"
    }
   },
   "outputs": [
    {
     "name": "stdout",
     "output_type": "stream",
     "text": [
      "\n",
      "Available grid data of dimension 1D (x): \n",
      "['gxx', 'gxy', 'gxz', 'gyy', 'gyz', 'gzz', 'rho', 'M1', 'M2', 'M3', 'kxx', 'kxy', 'kxz', 'kyy', 'kyz', 'kzz', 'press', 'eps', 'vel[0]', 'vel[1]', 'vel[2]', 'H', 'alp']\n",
      "\n",
      "\n",
      "Available grid data of dimension 1D (y): \n",
      "['rho', 'kxx', 'kxy', 'kxz', 'kyy', 'kyz', 'kzz', 'alp', 'eps', 'press', 'vel[0]', 'vel[1]', 'vel[2]', 'M1', 'M2', 'M3', 'gxx', 'gxy', 'gxz', 'gyy', 'gyz', 'gzz', 'H']\n",
      "\n",
      "\n",
      "Available grid data of dimension 1D (z): \n",
      "['press', 'H', 'vel[0]', 'vel[1]', 'vel[2]', 'gxx', 'gxy', 'gxz', 'gyy', 'gyz', 'gzz', 'eps', 'alp', 'kxx', 'kxy', 'kxz', 'kyy', 'kyz', 'kzz', 'M1', 'M2', 'M3', 'rho']\n",
      "\n",
      "\n",
      "Available grid data of dimension 2D (xy): \n",
      "['vel[1]', 'vel[2]', 'vel[0]', 'rho']\n",
      "\n",
      "\n",
      "Available grid data of dimension 2D (xz): \n",
      "['vel[0]', 'vel[1]', 'vel[2]', 'rho']\n",
      "\n",
      "\n",
      "Available grid data of dimension 2D (yz): \n",
      "['vel[2]', 'rho', 'vel[0]', 'vel[1]']\n",
      "\n",
      "\n",
      "Available grid data of dimension 3D (xyz): \n",
      "['vel[1]', 'rho', 'vel[2]', 'vel[0]', 'mp_harmonic']\n",
      "\n"
     ]
    }
   ],
   "source": [
    "print(sim.gf)"
   ]
  },
  {
   "cell_type": "code",
   "execution_count": 14,
   "metadata": {
    "execution": {
     "iopub.execute_input": "2023-05-02T17:52:15.377268Z",
     "iopub.status.busy": "2023-05-02T17:52:15.376580Z",
     "iopub.status.idle": "2023-05-02T17:52:15.407117Z",
     "shell.execute_reply": "2023-05-02T17:52:15.405967Z"
    }
   },
   "outputs": [],
   "source": [
    "# rest-mass density on the xy plane at iteration 0\n",
    "rho = sim.gf.xy[\"rho\"][0]"
   ]
  },
  {
   "cell_type": "markdown",
   "metadata": {},
   "source": [
    "For more information of grid data, check out the [grid_data tutorial](grid_data.ipynb)."
   ]
  },
  {
   "cell_type": "markdown",
   "metadata": {},
   "source": [
    "## `cactus_horizons`\n",
    "\n",
    "`kuibit` can read horizon data from `QuasiLocalMeasures` and `AHFinderDirect`. The module that is responsible for this is [cactus_horizons](../cactus_horizons.rst). Horizon information is in the `.horizon` attribute. "
   ]
  },
  {
   "cell_type": "markdown",
   "metadata": {},
   "source": [
    "## `cactus_timers`\n",
    "\n",
    "If timing information is present, it can be accessed with the `.timers` attribute. This is provided by the [cactus_timers](../timers.rst) modules. "
   ]
  }
 ],
 "metadata": {
  "kernelspec": {
   "display_name": "Python 3 (ipykernel)",
   "language": "python",
   "name": "python3"
  },
  "language_info": {
   "codemirror_mode": {
    "name": "ipython",
    "version": 3
   },
   "file_extension": ".py",
   "mimetype": "text/x-python",
   "name": "python",
   "nbconvert_exporter": "python",
   "pygments_lexer": "ipython3",
   "version": "3.7.16"
  }
 },
 "nbformat": 4,
 "nbformat_minor": 4
}
