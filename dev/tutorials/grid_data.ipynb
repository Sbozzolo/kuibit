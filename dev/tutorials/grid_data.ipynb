{
 "cells": [
  {
   "cell_type": "markdown",
   "metadata": {},
   "source": [
    "# Working with grid data\n",
    "\n",
    "In this notebook, we show some of the most useful features of the [grid_data](../grid_data.rst) module. \n",
    "\n",
    "There are three important objects in [grid_data](../grid_data.rst):\n",
    "- `UniformGrid` represents Cartesian grids,\n",
    "- `UniformGridData` represents data on `UniformGrid`,\n",
    "- `HierarchicalGridData` represents data on multiple grids with different spacings (a mesh-refined grid).\n",
    "\n",
    "In most cases you will not define these objects directly, but it is important to know how they work.\n",
    "To learn how to read the simulation data, see [working with grid funcitons](cactus_grid_functions.ipynb).\n",
    "\n",
    "(This notebook is meant to be converted in Sphinx documentation and not used directly.)"
   ]
  },
  {
   "cell_type": "code",
   "execution_count": 1,
   "metadata": {
    "execution": {
     "iopub.execute_input": "2021-11-19T14:13:56.542906Z",
     "iopub.status.busy": "2021-11-19T14:13:56.541925Z",
     "iopub.status.idle": "2021-11-19T14:13:57.138816Z",
     "shell.execute_reply": "2021-11-19T14:13:57.137874Z"
    }
   },
   "outputs": [],
   "source": [
    "import matplotlib.pyplot as plt\n",
    "import numpy as np\n",
    "from kuibit import grid_data as gd\n",
    "from kuibit import grid_data_utils as gdu\n",
    "from kuibit import series\n",
    "\n",
    "%matplotlib inline"
   ]
  },
  {
   "cell_type": "markdown",
   "metadata": {},
   "source": [
    "## `UniformGrid`"
   ]
  },
  {
   "cell_type": "markdown",
   "metadata": {},
   "source": [
    "To generate data, we start from preparing a grid. `kuibit` follows the conventions in `Carpet` and identifies a grid with (1) the number of points along each direction, (2) the coordinate of left bottom cell, (3) the spacing or the coordinate of the top right cell.\n",
    "In addition, `UniformGrid` can contain additional information, like the number of refinement level, or the time. These grids are always cell-centered.\n",
    "\n",
    "Let us create a 2D grid: "
   ]
  },
  {
   "cell_type": "code",
   "execution_count": 2,
   "metadata": {
    "execution": {
     "iopub.execute_input": "2021-11-19T14:13:57.143510Z",
     "iopub.status.busy": "2021-11-19T14:13:57.142985Z",
     "iopub.status.idle": "2021-11-19T14:13:57.146742Z",
     "shell.execute_reply": "2021-11-19T14:13:57.146302Z"
    }
   },
   "outputs": [],
   "source": [
    "grid = gd.UniformGrid([201, 201], # Number of points\n",
    "                      x0=[-100, -100], # origin\n",
    "                      x1=[100, 100] # other corner\n",
    "                      )"
   ]
  },
  {
   "cell_type": "markdown",
   "metadata": {},
   "source": [
    "`UniformGrid` are meant to be immutable objects, and indeed there is not much that we can do with them. If we print them, we will find some interesting information."
   ]
  },
  {
   "cell_type": "code",
   "execution_count": 3,
   "metadata": {
    "execution": {
     "iopub.execute_input": "2021-11-19T14:13:57.152135Z",
     "iopub.status.busy": "2021-11-19T14:13:57.151245Z",
     "iopub.status.idle": "2021-11-19T14:13:57.154805Z",
     "shell.execute_reply": "2021-11-19T14:13:57.154367Z"
    }
   },
   "outputs": [
    {
     "name": "stdout",
     "output_type": "stream",
     "text": [
      "Shape            = [201 201]\n",
      "Num ghost zones  = [0 0]\n",
      "Ref. level       = -1\n",
      "Component        = -1\n",
      "x0               = [-100. -100.]\n",
      "x0/dx            = [-100. -100.]\n",
      "x1               = [100. 100.]\n",
      "x1/dx            = [100. 100.]\n",
      "Volume           = 40401.0\n",
      "dx               = [1. 1.]\n",
      "Time             = None\n",
      "Iteration        = None\n",
      "\n"
     ]
    }
   ],
   "source": [
    "print(grid)"
   ]
  },
  {
   "cell_type": "markdown",
   "metadata": {},
   "source": [
    "We can obtain this (and other information) directly from `grid`, for example."
   ]
  },
  {
   "cell_type": "code",
   "execution_count": 4,
   "metadata": {
    "execution": {
     "iopub.execute_input": "2021-11-19T14:13:57.159596Z",
     "iopub.status.busy": "2021-11-19T14:13:57.158368Z",
     "iopub.status.idle": "2021-11-19T14:13:57.161585Z",
     "shell.execute_reply": "2021-11-19T14:13:57.161147Z"
    }
   },
   "outputs": [
    {
     "name": "stdout",
     "output_type": "stream",
     "text": [
      "Unit volume 1.0, number of dimensions 2\n"
     ]
    }
   ],
   "source": [
    "print(f\"Unit volume {grid.dv}, number of dimensions {grid.num_dimensions}\")"
   ]
  },
  {
   "cell_type": "markdown",
   "metadata": {},
   "source": [
    "`UniformGrid` objects can be indexed and support the `in` operator, which are quite convinent. "
   ]
  },
  {
   "cell_type": "code",
   "execution_count": 5,
   "metadata": {
    "execution": {
     "iopub.execute_input": "2021-11-19T14:13:57.166574Z",
     "iopub.status.busy": "2021-11-19T14:13:57.165504Z",
     "iopub.status.idle": "2021-11-19T14:13:57.168498Z",
     "shell.execute_reply": "2021-11-19T14:13:57.168063Z"
    }
   },
   "outputs": [
    {
     "name": "stdout",
     "output_type": "stream",
     "text": [
      "The coordinate cooresponding to the index 1, 2 is [-99. -98.]\n",
      "Is [-140, 50] in the grid?: False\n"
     ]
    }
   ],
   "source": [
    "print(f\"The coordinate cooresponding to the index 1, 2 is {grid[1,2]}\")\n",
    "print(f\"Is [-140, 50] in the grid?: {[-140, 50] in grid}\")"
   ]
  },
  {
   "cell_type": "markdown",
   "metadata": {},
   "source": [
    "Finally, one can get explicitly the coordinates with the `coordinates` method.\n",
    "This can return arrays with the coordinates along each direction (default), or can return the coordinates as a numpy meshgrid \n",
    "(if `as_meshgrid=True`), or can return a list of arrays with the same shape of the grid and the values of the coordinates (if `as_same_shape=True`).\n",
    "Let's see one example."
   ]
  },
  {
   "cell_type": "code",
   "execution_count": 6,
   "metadata": {
    "execution": {
     "iopub.execute_input": "2021-11-19T14:13:57.174931Z",
     "iopub.status.busy": "2021-11-19T14:13:57.173767Z",
     "iopub.status.idle": "2021-11-19T14:13:57.176938Z",
     "shell.execute_reply": "2021-11-19T14:13:57.176480Z"
    }
   },
   "outputs": [
    {
     "name": "stdout",
     "output_type": "stream",
     "text": [
      "[-100.  -99.  -98.  -97.  -96.  -95.  -94.  -93.  -92.  -91.  -90.  -89.\n",
      "  -88.  -87.  -86.  -85.  -84.  -83.  -82.  -81.  -80.  -79.  -78.  -77.\n",
      "  -76.  -75.  -74.  -73.  -72.  -71.  -70.  -69.  -68.  -67.  -66.  -65.\n",
      "  -64.  -63.  -62.  -61.  -60.  -59.  -58.  -57.  -56.  -55.  -54.  -53.\n",
      "  -52.  -51.  -50.  -49.  -48.  -47.  -46.  -45.  -44.  -43.  -42.  -41.\n",
      "  -40.  -39.  -38.  -37.  -36.  -35.  -34.  -33.  -32.  -31.  -30.  -29.\n",
      "  -28.  -27.  -26.  -25.  -24.  -23.  -22.  -21.  -20.  -19.  -18.  -17.\n",
      "  -16.  -15.  -14.  -13.  -12.  -11.  -10.   -9.   -8.   -7.   -6.   -5.\n",
      "   -4.   -3.   -2.   -1.    0.    1.    2.    3.    4.    5.    6.    7.\n",
      "    8.    9.   10.   11.   12.   13.   14.   15.   16.   17.   18.   19.\n",
      "   20.   21.   22.   23.   24.   25.   26.   27.   28.   29.   30.   31.\n",
      "   32.   33.   34.   35.   36.   37.   38.   39.   40.   41.   42.   43.\n",
      "   44.   45.   46.   47.   48.   49.   50.   51.   52.   53.   54.   55.\n",
      "   56.   57.   58.   59.   60.   61.   62.   63.   64.   65.   66.   67.\n",
      "   68.   69.   70.   71.   72.   73.   74.   75.   76.   77.   78.   79.\n",
      "   80.   81.   82.   83.   84.   85.   86.   87.   88.   89.   90.   91.\n",
      "   92.   93.   94.   95.   96.   97.   98.   99.  100.]\n"
     ]
    }
   ],
   "source": [
    "print(grid.coordinates()[0])"
   ]
  },
  {
   "cell_type": "markdown",
   "metadata": {},
   "source": [
    "## `UniformGridData`"
   ]
  },
  {
   "cell_type": "markdown",
   "metadata": {},
   "source": [
    "`UniformGridData` are much more interesting. `UniformGridData` packages a\n",
    "`UniformGrid` and some data in the same object and provides many useful\n",
    "functionalities.\n",
    "\n",
    "Let us create some fake data to explore the capabilities. A simple way to\n",
    "generate a `UniformGridData` from a function is with `sample_function`."
   ]
  },
  {
   "cell_type": "code",
   "execution_count": 7,
   "metadata": {
    "execution": {
     "iopub.execute_input": "2021-11-19T14:13:57.180818Z",
     "iopub.status.busy": "2021-11-19T14:13:57.180320Z",
     "iopub.status.idle": "2021-11-19T14:13:57.187928Z",
     "shell.execute_reply": "2021-11-19T14:13:57.187431Z"
    }
   },
   "outputs": [],
   "source": [
    "grid_data = gdu.sample_function(lambda x, y: x * y,\n",
    "                          [101, 201], # shape\n",
    "                          [0, 0], # origin\n",
    "                          [10, 10] # other corner\n",
    "                          )"
   ]
  },
  {
   "cell_type": "markdown",
   "metadata": {},
   "source": [
    "We can visualize this data with matplotlib `contourf`. \n",
    "To do this, we need the coordinates as meshgrid, and we need the actual data.\n",
    "To get the first, we use the `coordinates_meshgrid` method, for the second, we\n",
    "access directly the data with the `data` attribute. This is stored as a numpy \n",
    "array. Often, we want to plot these objects. Using `data` directly would lead to \n",
    "transposing the actual physical quantity, because `data` is a matrix stored by rows, \n",
    "so, the first index does not label the x coordiante, but the y. \n",
    "We provide the aliaxs `data_xyz`, which is the the tranposed of `data`. This is ready to be plotted. \n",
    "\n",
    "\n",
    "⚠️ In this tutorial, we plot the various quantities directly. This is to understand to access the data and what is the fundamental structure of these objects. However, `kuibit` comes with plottings methods too. The `visualize_matplotlib` module contains multiple functions to make 2D plots. We touch upon this at the end of this tutorial."
   ]
  },
  {
   "cell_type": "code",
   "execution_count": 8,
   "metadata": {
    "execution": {
     "iopub.execute_input": "2021-11-19T14:13:57.204204Z",
     "iopub.status.busy": "2021-11-19T14:13:57.203702Z",
     "iopub.status.idle": "2021-11-19T14:13:57.383841Z",
     "shell.execute_reply": "2021-11-19T14:13:57.383394Z"
    }
   },
   "outputs": [
    {
     "data": {
      "text/plain": [
       "<matplotlib.colorbar.Colorbar at 0x7ff75b210518>"
      ]
     },
     "execution_count": 1,
     "metadata": {},
     "output_type": "execute_result"
    },
    {
     "data": {
      "image/png": "[encoded data removed]",
      "text/plain": [
       "<Figure size 432x288 with 2 Axes>"
      ]
     },
     "metadata": {
      "needs_background": "light"
     },
     "output_type": "display_data"
    }
   ],
   "source": [
    "cf = plt.contourf(*grid_data.coordinates_meshgrid(), # The star is to unpack the list\n",
    "                  grid_data.data_xyz) \n",
    "plt.colorbar(cf)"
   ]
  },
  {
   "cell_type": "markdown",
   "metadata": {},
   "source": [
    "`UniformGridData` support all the mathematical operations we may want, for instance."
   ]
  },
  {
   "cell_type": "code",
   "execution_count": 9,
   "metadata": {
    "execution": {
     "iopub.execute_input": "2021-11-19T14:13:57.388360Z",
     "iopub.status.busy": "2021-11-19T14:13:57.387862Z",
     "iopub.status.idle": "2021-11-19T14:13:57.567671Z",
     "shell.execute_reply": "2021-11-19T14:13:57.567131Z"
    }
   },
   "outputs": [
    {
     "data": {
      "text/plain": [
       "<matplotlib.colorbar.Colorbar at 0x7ff75b0e73c8>"
      ]
     },
     "execution_count": 1,
     "metadata": {},
     "output_type": "execute_result"
    },
    {
     "data": {
      "image/png": "[encoded data removed]",
      "text/plain": [
       "<Figure size 432x288 with 2 Axes>"
      ]
     },
     "metadata": {
      "needs_background": "light"
     },
     "output_type": "display_data"
    }
   ],
   "source": [
    "funky_data = np.sqrt(grid_data) + grid_data**2 * np.tanh(grid_data)\n",
    "cf = plt.contourf(*funky_data.coordinates_meshgrid(), funky_data.data_xyz)\n",
    "plt.colorbar(cf)"
   ]
  },
  {
   "cell_type": "markdown",
   "metadata": {},
   "source": [
    "We can find the absolute maximum and where the coordinate where the absolute maximum is reached (the argument `absolute=False` would be required if we did not want the absolute)."
   ]
  },
  {
   "cell_type": "code",
   "execution_count": 10,
   "metadata": {
    "execution": {
     "iopub.execute_input": "2021-11-19T14:13:57.572884Z",
     "iopub.status.busy": "2021-11-19T14:13:57.571636Z",
     "iopub.status.idle": "2021-11-19T14:13:57.575060Z",
     "shell.execute_reply": "2021-11-19T14:13:57.575468Z"
    }
   },
   "outputs": [
    {
     "name": "stdout",
     "output_type": "stream",
     "text": [
      "The absolute maximum is 10010.0\n",
      "The absolute maximum occurs at [10. 10.]\n"
     ]
    }
   ],
   "source": [
    "print(f\"The absolute maximum is {funky_data.abs_max()}\")\n",
    "print(f\"The absolute maximum occurs at {funky_data.coordinates_at_maximum()}\")"
   ]
  },
  {
   "cell_type": "markdown",
   "metadata": {},
   "source": [
    "`UniformGridData` can be interpolated with splines to evalute data everywhere, even where there was no data. With this, we can make `UniformGridData` callable objects:"
   ]
  },
  {
   "cell_type": "code",
   "execution_count": 11,
   "metadata": {
    "execution": {
     "iopub.execute_input": "2021-11-19T14:13:57.580551Z",
     "iopub.status.busy": "2021-11-19T14:13:57.579691Z",
     "iopub.status.idle": "2021-11-19T14:13:57.582744Z",
     "shell.execute_reply": "2021-11-19T14:13:57.582311Z"
    }
   },
   "outputs": [
    {
     "name": "stdout",
     "output_type": "stream",
     "text": [
      "The value of funky_data at (2, 3) is 38.449\n"
     ]
    }
   ],
   "source": [
    "print(f\"The value of funky_data at (2, 3) is {funky_data((2,3)):.3f}\")"
   ]
  },
  {
   "cell_type": "markdown",
   "metadata": {},
   "source": [
    "`UniformGridData` have built-in a collection of useful functions, for example:"
   ]
  },
  {
   "cell_type": "code",
   "execution_count": 12,
   "metadata": {
    "execution": {
     "iopub.execute_input": "2021-11-19T14:13:57.587519Z",
     "iopub.status.busy": "2021-11-19T14:13:57.586988Z",
     "iopub.status.idle": "2021-11-19T14:13:57.703428Z",
     "shell.execute_reply": "2021-11-19T14:13:57.703822Z"
    }
   },
   "outputs": [
    {
     "name": "stdout",
     "output_type": "stream",
     "text": [
      "The mean of funky_data is 1123.865\n",
      "The integral of funky_data is 114077.947\n",
      "The norm2 of funky_data is 20417.836\n"
     ]
    },
    {
     "data": {
      "text/plain": [
       "[<matplotlib.lines.Line2D at 0x7ff75b05bd68>]"
      ]
     },
     "execution_count": 1,
     "metadata": {},
     "output_type": "execute_result"
    },
    {
     "data": {
      "image/png": "[encoded data removed]",
      "text/plain": [
       "<Figure size 432x288 with 1 Axes>"
      ]
     },
     "metadata": {
      "needs_background": "light"
     },
     "output_type": "display_data"
    }
   ],
   "source": [
    "print(f\"The mean of funky_data is {funky_data.mean():.3f}\")\n",
    "print(f\"The integral of funky_data is {funky_data.integral():.3f}\")\n",
    "print(f\"The norm2 of funky_data is {funky_data.norm2():.3f}\")\n",
    "\n",
    "bins, hist = funky_data.histogram(num_bins=20)\n",
    "plt.ylabel(\"count\")\n",
    "plt.xlabel(\"value\")\n",
    "plt.plot(bins, hist[:-1])"
   ]
  },
  {
   "cell_type": "markdown",
   "metadata": {},
   "source": [
    "It is not possible to combine directly two `UniformGridData` with different associated grids, \n",
    "but it is always possible to resample the objects so that they have a common grid.\n",
    "\n",
    "Pay attention: resampling operations can be very expensive with large grids or high dimensions! "
   ]
  },
  {
   "cell_type": "code",
   "execution_count": 13,
   "metadata": {
    "execution": {
     "iopub.execute_input": "2021-11-19T14:13:57.708419Z",
     "iopub.status.busy": "2021-11-19T14:13:57.707908Z",
     "iopub.status.idle": "2021-11-19T14:13:57.917293Z",
     "shell.execute_reply": "2021-11-19T14:13:57.917717Z"
    }
   },
   "outputs": [
    {
     "data": {
      "text/plain": [
       "<matplotlib.colorbar.Colorbar at 0x7ff75af8f710>"
      ]
     },
     "execution_count": 1,
     "metadata": {},
     "output_type": "execute_result"
    },
    {
     "data": {
      "image/png": "[encoded data removed]",
      "text/plain": [
       "<Figure size 432x288 with 2 Axes>"
      ]
     },
     "metadata": {
      "needs_background": "light"
     },
     "output_type": "display_data"
    }
   ],
   "source": [
    "new_grid = gd.UniformGrid([201, 301], x0=[1, 1], x1=[2, 10])\n",
    "resampled_funky = funky_data.resampled(new_grid)\n",
    "cf = plt.contourf(*resampled_funky.coordinates_meshgrid(), resampled_funky.data_xyz)\n",
    "plt.colorbar(cf)"
   ]
  },
  {
   "cell_type": "markdown",
   "metadata": {},
   "source": [
    "Being able to resample `UniformGridData` means that even if it is not possible to directly\n",
    "combine objects with different grids, you can always resample them to a common grid, and then\n",
    "perform the operation.\n",
    "\n",
    "Often, it is useful to save a `UniformGridData` to disk. A common example is to resampled 3D grid data\n",
    "on a cluster and move the much smaller saved file to a local computer or laptop.\n",
    "\n",
    "This can be achieved with the `save` method and the `load_UniformGridData` function."
   ]
  },
  {
   "cell_type": "code",
   "execution_count": 14,
   "metadata": {
    "execution": {
     "iopub.execute_input": "2021-11-19T14:13:57.921909Z",
     "iopub.status.busy": "2021-11-19T14:13:57.921404Z",
     "iopub.status.idle": "2021-11-19T14:13:57.959643Z",
     "shell.execute_reply": "2021-11-19T14:13:57.959195Z"
    }
   },
   "outputs": [],
   "source": [
    "resampled_funky.save(\"/tmp/funky.npz\")\n",
    "\n",
    "from kuibit.grid_data_utils import load_UniformGridData\n",
    "\n",
    "loaded_data = load_UniformGridData(\"/tmp/funky.npz\")"
   ]
  },
  {
   "cell_type": "markdown",
   "metadata": {},
   "source": [
    "The fastest format to save data in is `npz`, but this is not always portable. \n",
    "The `save` method accepts many other formats, like `txt`, `dat`, and also compressed\n",
    "ones (e.g., `txt.gz`)."
   ]
  },
  {
   "cell_type": "markdown",
   "metadata": {},
   "source": [
    "## `HierarchicalGridData`"
   ]
  },
  {
   "cell_type": "markdown",
   "metadata": {},
   "source": [
    "Now that we have some familiarity with `UniformGridData`, we can move to the most important\n",
    "object, `HierarchicalGridData`. The relevance of this class is due to the fact that simulation\n",
    "data is represented with `HierarchicalGridData` objects.\n",
    "\n",
    "A `HierarchicalGridData` is a collection of `UniformGridData`, or (or more) for each refinement\n",
    "level.\n",
    "\n",
    "Let us prepare some fake data."
   ]
  },
  {
   "cell_type": "code",
   "execution_count": 15,
   "metadata": {
    "execution": {
     "iopub.execute_input": "2021-11-19T14:13:57.966297Z",
     "iopub.status.busy": "2021-11-19T14:13:57.965060Z",
     "iopub.status.idle": "2021-11-19T14:13:57.973909Z",
     "shell.execute_reply": "2021-11-19T14:13:57.973259Z"
    }
   },
   "outputs": [
    {
     "name": "stdout",
     "output_type": "stream",
     "text": [
      "Available refinement levels (components):\n",
      "0 (1)\n",
      "1 (1)\n",
      "2 (1)\n",
      "Spacing at coarsest level (0): [1. 1.]\n",
      "Spacing at finest level (2): [0.33333333 0.33333333]\n"
     ]
    }
   ],
   "source": [
    "# 3 refinement levels\n",
    "data = []\n",
    "for ref_level in range(3):\n",
    "    resolution = (1 + ref_level) * 20 + 1\n",
    "    data.append(gdu.sample_function(lambda x, y: x*y + 5,\n",
    "                                   [resolution, resolution],\n",
    "                                   [-10, -10], \n",
    "                                   [10, 10],\n",
    "                                   ref_level=ref_level\n",
    "                                   ))\n",
    "hg = gd.HierarchicalGridData(data)\n",
    "print(hg)"
   ]
  },
  {
   "cell_type": "markdown",
   "metadata": {},
   "source": [
    "\"Components\" are essentially patches of grid. In some cases,\n",
    "components are a result of running the code on multiple processes.\n",
    "In this case, kuibit will try to merge them in a single grid.\n",
    "In other instances, when there are multiple centers of refinement,\n",
    "the components are real. Here, kuibit will do nothing and will\n",
    "keep all the components around.\n",
    "\n",
    "To access a specific refinement level, we can use the backet operator.\n",
    "This will return a list of all the components at that level. Often,\n",
    "there will be only one element because kuibit successfully merged\n",
    "the various patches. In this case, one can use the `get_level` method\n",
    "to get directly the data on that level."
   ]
  },
  {
   "cell_type": "code",
   "execution_count": 16,
   "metadata": {
    "execution": {
     "iopub.execute_input": "2021-11-19T14:13:57.977452Z",
     "iopub.status.busy": "2021-11-19T14:13:57.976941Z",
     "iopub.status.idle": "2021-11-19T14:13:57.979826Z",
     "shell.execute_reply": "2021-11-19T14:13:57.979071Z"
    }
   },
   "outputs": [],
   "source": [
    "level2 = hg.get_level(2)"
   ]
  },
  {
   "cell_type": "code",
   "execution_count": 17,
   "metadata": {
    "execution": {
     "iopub.execute_input": "2021-11-19T14:13:57.983390Z",
     "iopub.status.busy": "2021-11-19T14:13:57.982894Z",
     "iopub.status.idle": "2021-11-19T14:13:57.987717Z",
     "shell.execute_reply": "2021-11-19T14:13:57.986995Z"
    }
   },
   "outputs": [
    {
     "data": {
      "text/plain": [
       "kuibit.grid_data.UniformGridData"
      ]
     },
     "execution_count": 1,
     "metadata": {},
     "output_type": "execute_result"
    }
   ],
   "source": [
    "type(level2)"
   ]
  },
  {
   "cell_type": "markdown",
   "metadata": {},
   "source": [
    "As we see, this is just a `UniformGridData`, so everything we can operate\n",
    "on single levels exactly in the same way we work on `UniformGridData`.\n",
    "If the  `HierarchicalGridData` has multiple disconnected components, \n",
    "`hg[2]` will instead return a list of `UniformGridData`.\n",
    "\n",
    " `HierarchicalGridData` fully support mathematical operations. (Binary operations\n",
    " are performed only if the two objects have the same grids and components.)"
   ]
  },
  {
   "cell_type": "code",
   "execution_count": 18,
   "metadata": {
    "execution": {
     "iopub.execute_input": "2021-11-19T14:13:57.991879Z",
     "iopub.status.busy": "2021-11-19T14:13:57.990787Z",
     "iopub.status.idle": "2021-11-19T14:13:57.998599Z",
     "shell.execute_reply": "2021-11-19T14:13:57.998160Z"
    }
   },
   "outputs": [
    {
     "name": "stdout",
     "output_type": "stream",
     "text": [
      "more_funk of (2, 3) is 2.565\n"
     ]
    }
   ],
   "source": [
    "more_funk = (abs(hg) + 2).log() # For some reasons np.log(hg) doesn't work... \n",
    "\n",
    "# We can also call the HierarchicalGridData\n",
    "print(f\"more_funk of (2, 3) is {more_funk((2,3)):.3f}\")"
   ]
  },
  {
   "cell_type": "markdown",
   "metadata": {},
   "source": [
    "We cannot plot directly this object, because it is a complicated object. To plot it, we have to merge the refinement levels to a single `UniformGridData`. We can do this with `merge_refinement_levels()`. \n",
    "\n",
    "Note that `merge_refinement_levels` is a very expensive operation and that it is provided only for small datasets or for one-dimensional data. "
   ]
  },
  {
   "cell_type": "code",
   "execution_count": 19,
   "metadata": {
    "execution": {
     "iopub.execute_input": "2021-11-19T14:13:58.048706Z",
     "iopub.status.busy": "2021-11-19T14:13:58.012348Z",
     "iopub.status.idle": "2021-11-19T14:13:58.573165Z",
     "shell.execute_reply": "2021-11-19T14:13:58.573865Z"
    }
   },
   "outputs": [
    {
     "data": {
      "text/plain": [
       "<matplotlib.colorbar.Colorbar at 0x7ff75ae75940>"
      ]
     },
     "execution_count": 1,
     "metadata": {},
     "output_type": "execute_result"
    },
    {
     "data": {
      "image/png": "[encoded data removed]",
      "text/plain": [
       "<Figure size 432x288 with 2 Axes>"
      ]
     },
     "metadata": {
      "needs_background": "light"
     },
     "output_type": "display_data"
    }
   ],
   "source": [
    "merged = more_funk.merge_refinement_levels(resample=True)\n",
    "cf = plt.contourf(*merged.coordinates_meshgrid(), merged.data_xyz)\n",
    "plt.colorbar(cf)"
   ]
  },
  {
   "cell_type": "markdown",
   "metadata": {},
   "source": [
    "As you noticed, we enabled the `resample` option. With this option the coarser refinement levels are interpolated to the new finer grid using multilinear interpolation.\n",
    "\n",
    "When working with large grids, many refinement levels, and/or 3D data, merging the various refinement levels can be a very expensive operation. However, often we don't need the entire grid, but we want to look at a portion. `HierachicalGridData` objects have a method to merge the refinement levels on a specified grid."
   ]
  },
  {
   "cell_type": "code",
   "execution_count": 20,
   "metadata": {
    "execution": {
     "iopub.execute_input": "2021-11-19T14:13:58.617649Z",
     "iopub.status.busy": "2021-11-19T14:13:58.608857Z",
     "iopub.status.idle": "2021-11-19T14:13:58.831119Z",
     "shell.execute_reply": "2021-11-19T14:13:58.831534Z"
    }
   },
   "outputs": [
    {
     "data": {
      "text/plain": [
       "<matplotlib.colorbar.Colorbar at 0x7ff75adcea20>"
      ]
     },
     "execution_count": 1,
     "metadata": {},
     "output_type": "execute_result"
    },
    {
     "data": {
      "image/png": "[encoded data removed]",
      "text/plain": [
       "<Figure size 432x288 with 2 Axes>"
      ]
     },
     "metadata": {
      "needs_background": "light"
     },
     "output_type": "display_data"
    }
   ],
   "source": [
    "small_funk = more_funk.to_UniformGridData([20, 20], x0=[-1, -1], x1=[1, 1], resample=False)\n",
    "cf = plt.contourf(*small_funk.coordinates_meshgrid(), small_funk.data_xyz)\n",
    "plt.colorbar(cf)"
   ]
  },
  {
   "cell_type": "markdown",
   "metadata": {},
   "source": [
    "`HierachicalGridData` objects have a lot of information that is accessible as a property."
   ]
  },
  {
   "cell_type": "code",
   "execution_count": 21,
   "metadata": {
    "execution": {
     "iopub.execute_input": "2021-11-19T14:13:58.839033Z",
     "iopub.status.busy": "2021-11-19T14:13:58.838501Z",
     "iopub.status.idle": "2021-11-19T14:13:58.842382Z",
     "shell.execute_reply": "2021-11-19T14:13:58.841949Z"
    }
   },
   "outputs": [
    {
     "name": "stdout",
     "output_type": "stream",
     "text": [
      "Available refinement levels: [0, 1, 2]\n",
      "Spacing of the coarsest: [1. 1.]\n",
      "Spacing of the finest: [0.33333333 0.33333333]\n",
      "Finest level: <kuibit.grid_data.UniformGridData object at 0x7ff75af5eef0>\n"
     ]
    }
   ],
   "source": [
    "print(f\"Available refinement levels: {hg.refinement_levels}\")\n",
    "print(f\"Spacing of the coarsest: {hg.coarsest_dx}\")\n",
    "print(f\"Spacing of the finest: {hg.finest_dx}\")\n",
    "print(f\"Finest level: {hg.finest_level}\")"
   ]
  },
  {
   "cell_type": "markdown",
   "metadata": {},
   "source": [
    "Often, we want to look at a specific cut of the data. `UniformGridData` can be sliced easily. Just prepare a `cut` array with `None` where you want to keep the dimension, and the coordiante of where you want to slice. For example, here we extract the line with `y=0.7`."
   ]
  },
  {
   "cell_type": "code",
   "execution_count": 22,
   "metadata": {
    "execution": {
     "iopub.execute_input": "2021-11-19T14:13:58.865655Z",
     "iopub.status.busy": "2021-11-19T14:13:58.847931Z",
     "iopub.status.idle": "2021-11-19T14:13:58.992544Z",
     "shell.execute_reply": "2021-11-19T14:13:58.992073Z"
    }
   },
   "outputs": [
    {
     "name": "stdout",
     "output_type": "stream",
     "text": [
      "Shape            = [20]\n",
      "Num ghost zones  = [0]\n",
      "Ref. level       = -1\n",
      "Component        = -1\n",
      "x0               = [-1.]\n",
      "x0/dx            = [-9.5]\n",
      "x1               = [1.]\n",
      "x1/dx            = [9.5]\n",
      "Volume           = 2.1052631578947367\n",
      "dx               = [0.10526316]\n",
      "Time             = None\n",
      "Iteration        = None\n",
      "\n"
     ]
    },
    {
     "data": {
      "text/plain": [
       "[<matplotlib.lines.Line2D at 0x7ff75ad5f198>]"
      ]
     },
     "execution_count": 1,
     "metadata": {},
     "output_type": "execute_result"
    },
    {
     "data": {
      "image/png": "[encoded data removed]",
      "text/plain": [
       "<Figure size 432x288 with 1 Axes>"
      ]
     },
     "metadata": {
      "needs_background": "light"
     },
     "output_type": "display_data"
    }
   ],
   "source": [
    "along_y = small_funk.sliced([None,0.7])\n",
    "print(along_y.grid)\n",
    "plt.plot(*along_y.coordinates_meshgrid(), along_y.data)"
   ]
  },
  {
   "cell_type": "markdown",
   "metadata": {},
   "source": [
    "When working with a one-dimensional array, you can consider converting it to a `GridSeries` with the method `to_GridSeries`. That is: instead of using the entire infrastructure for grid data, you can use the infrastructure for series (e.g., `TimeSeries`). The main advantage is that the series infrastrcture is more direct and lean. For example, you can plot directly with `plt.plot()`."
   ]
  },
  {
   "cell_type": "code",
   "execution_count": 23,
   "metadata": {
    "execution": {
     "iopub.execute_input": "2021-11-19T14:13:59.012955Z",
     "iopub.status.busy": "2021-11-19T14:13:58.996150Z",
     "iopub.status.idle": "2021-11-19T14:13:59.135696Z",
     "shell.execute_reply": "2021-11-19T14:13:59.135153Z"
    }
   },
   "outputs": [
    {
     "data": {
      "text/plain": [
       "[<matplotlib.lines.Line2D at 0x7ff75accc550>]"
      ]
     },
     "execution_count": 1,
     "metadata": {},
     "output_type": "execute_result"
    },
    {
     "data": {
      "image/png": "[encoded data removed]",
      "text/plain": [
       "<Figure size 432x288 with 1 Axes>"
      ]
     },
     "metadata": {
      "needs_background": "light"
     },
     "output_type": "display_data"
    }
   ],
   "source": [
    "along_y_series = along_y.to_GridSeries()\n",
    "plt.plot(along_y_series)"
   ]
  },
  {
   "cell_type": "markdown",
   "metadata": {},
   "source": [
    "## Masks\n",
    "\n",
    "It is often useful to mask the data according to some criterion. For example, mask the atmosphere out in a GRMHD simulation. `kuibit` fully supports mask with an interface that is similar to the one implemented in `NumPy` (but some features will not work with masked data, for example interpolation). \n",
    "\n",
    "The module `kuibit.masks` provides methods to apply masked functions in case the domain is restricted. For example, for the logarithm, or arcsin:"
   ]
  },
  {
   "cell_type": "code",
   "execution_count": 24,
   "metadata": {
    "execution": {
     "iopub.execute_input": "2021-11-19T14:13:59.139829Z",
     "iopub.status.busy": "2021-11-19T14:13:59.138891Z",
     "iopub.status.idle": "2021-11-19T14:13:59.145234Z",
     "shell.execute_reply": "2021-11-19T14:13:59.144769Z"
    }
   },
   "outputs": [
    {
     "name": "stdout",
     "output_type": "stream",
     "text": [
      "True\n"
     ]
    }
   ],
   "source": [
    "import kuibit.masks as km\n",
    "\n",
    "arcsin_funk = km.arcsin(more_funk)\n",
    "\n",
    "print(arcsin_funk.is_masked())"
   ]
  },
  {
   "cell_type": "markdown",
   "metadata": {},
   "source": [
    "Alternatively, it is possible to apply masks according to the value of the data. For instance, masking all the values smaller than a given one:"
   ]
  },
  {
   "cell_type": "code",
   "execution_count": 25,
   "metadata": {
    "execution": {
     "iopub.execute_input": "2021-11-19T14:13:59.148832Z",
     "iopub.status.busy": "2021-11-19T14:13:59.148318Z",
     "iopub.status.idle": "2021-11-19T14:13:59.156947Z",
     "shell.execute_reply": "2021-11-19T14:13:59.156481Z"
    }
   },
   "outputs": [
    {
     "name": "stdout",
     "output_type": "stream",
     "text": [
      "0.6931471805599453\n",
      "1.0116009116784799\n"
     ]
    }
   ],
   "source": [
    "print(more_funk.abs_min())\n",
    "\n",
    "funk_masked = more_funk.masked_less(1)\n",
    "\n",
    "print(funk_masked.abs_min())  # The minimum now reflects the mask"
   ]
  },
  {
   "cell_type": "markdown",
   "metadata": {},
   "source": [
    "You can extract the mask and apply to another grid variable with the same structure. (This is how you would apply the atmospheric mask to other grid functions). "
   ]
  },
  {
   "cell_type": "code",
   "execution_count": 26,
   "metadata": {
    "execution": {
     "iopub.execute_input": "2021-11-19T14:13:59.162310Z",
     "iopub.status.busy": "2021-11-19T14:13:59.160198Z",
     "iopub.status.idle": "2021-11-19T14:13:59.166785Z",
     "shell.execute_reply": "2021-11-19T14:13:59.166348Z"
    }
   },
   "outputs": [
    {
     "name": "stdout",
     "output_type": "stream",
     "text": [
      "True\n"
     ]
    }
   ],
   "source": [
    "funk2 = more_funk ** 2\n",
    "\n",
    "funk2_masked = funk2.mask_applied(funk_masked.mask)\n",
    "\n",
    "print(funk2_masked.is_masked())"
   ]
  },
  {
   "cell_type": "markdown",
   "metadata": {},
   "source": [
    "## `visualize_matplotlib`"
   ]
  },
  {
   "cell_type": "markdown",
   "metadata": {},
   "source": [
    "In this tutorial we plotted all the quantities directly accessing the data. This is a pedagogical choice: you need to know how things work to be able to take full advantage of `kuibit`. However, most often the methods in the module `visualize_matplotlib` will be enough.\n",
    "\n",
    "The main functions to plot 2D data are: `plot_color` and `plot_contourf`. These take all sorts of inputs, and you should read the documentation. For example, we can plot a `UniformGridData` (the function will behave similarly with `HierarchicalGridData` or NumPy arrays)."
   ]
  },
  {
   "cell_type": "code",
   "execution_count": 27,
   "metadata": {
    "execution": {
     "iopub.execute_input": "2021-11-19T14:13:59.170500Z",
     "iopub.status.busy": "2021-11-19T14:13:59.169990Z",
     "iopub.status.idle": "2021-11-19T14:13:59.398050Z",
     "shell.execute_reply": "2021-11-19T14:13:59.398454Z"
    }
   },
   "outputs": [
    {
     "data": {
      "text/plain": [
       "<matplotlib.image.AxesImage at 0x7ff75af09278>"
      ]
     },
     "execution_count": 1,
     "metadata": {},
     "output_type": "execute_result"
    },
    {
     "data": {
      "image/png": "[encoded data removed]",
      "text/plain": [
       "<Figure size 432x288 with 1 Axes>"
      ]
     },
     "metadata": {
      "needs_background": "light"
     },
     "output_type": "display_data"
    }
   ],
   "source": [
    "import kuibit.visualize_matplotlib as viz\n",
    "\n",
    "viz.plot_color(funky_data)"
   ]
  },
  {
   "cell_type": "markdown",
   "metadata": {},
   "source": [
    "If we are only interested in a smaller region (and setting other parameters):"
   ]
  },
  {
   "cell_type": "code",
   "execution_count": 28,
   "metadata": {
    "execution": {
     "iopub.execute_input": "2021-11-19T14:13:59.418034Z",
     "iopub.status.busy": "2021-11-19T14:13:59.402848Z",
     "iopub.status.idle": "2021-11-19T14:13:59.646800Z",
     "shell.execute_reply": "2021-11-19T14:13:59.646336Z"
    }
   },
   "outputs": [
    {
     "data": {
      "text/plain": [
       "<matplotlib.image.AxesImage at 0x7ff75b0e10f0>"
      ]
     },
     "execution_count": 1,
     "metadata": {},
     "output_type": "execute_result"
    },
    {
     "data": {
      "image/png": "[encoded data removed]",
      "text/plain": [
       "<Figure size 432x288 with 2 Axes>"
      ]
     },
     "metadata": {
      "needs_background": "light"
     },
     "output_type": "display_data"
    }
   ],
   "source": [
    "viz.plot_color(funky_data, x0=[8,8], x1=[10,10], \n",
    "               shape=[50, 50], colorbar=True, \n",
    "               logscale=True, xlabel=\"x\", ylabel=\"y\",\n",
    "               interpolation=\"bicubic\")"
   ]
  },
  {
   "cell_type": "markdown",
   "metadata": {},
   "source": [
    "The method `plot_contourf` works in the same way."
   ]
  }
 ],
 "metadata": {
  "kernelspec": {
   "display_name": "Python 3",
   "language": "python",
   "name": "python3"
  },
  "language_info": {
   "codemirror_mode": {
    "name": "ipython",
    "version": 3
   },
   "file_extension": ".py",
   "mimetype": "text/x-python",
   "name": "python",
   "nbconvert_exporter": "python",
   "pygments_lexer": "ipython3",
   "version": "3.6.15"
  },
  "name": "grid_data.ipynb"
 },
 "nbformat": 4,
 "nbformat_minor": 4
}
