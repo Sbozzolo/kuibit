{
 "cells": [
  {
   "cell_type": "markdown",
   "metadata": {},
   "source": [
    "# Working with Simulation Directories\n",
    "\n",
    "Analyzing simulation data is as important as running the simulation itself. In this notebook, we will see how we easily access all the data using the [SimDir](../simdir.rst) module.\n",
    "\n",
    "(This notebook is meant to be converted in Sphinx documentation and not used directly.)"
   ]
  },
  {
   "cell_type": "code",
   "execution_count": 1,
   "metadata": {
    "execution": {
     "iopub.execute_input": "2021-06-18T20:01:23.306183Z",
     "iopub.status.busy": "2021-06-18T20:01:23.305641Z",
     "iopub.status.idle": "2021-06-18T20:01:23.627173Z",
     "shell.execute_reply": "2021-06-18T20:01:23.626298Z"
    }
   },
   "outputs": [],
   "source": [
    "from kuibit import simdir as sd"
   ]
  },
  {
   "cell_type": "markdown",
   "metadata": {},
   "source": [
    "Loading simulation data is as easy as generating `SimDir` objects. Just provide the path, and kuibit will do the rest."
   ]
  },
  {
   "cell_type": "code",
   "execution_count": 2,
   "metadata": {
    "execution": {
     "iopub.execute_input": "2021-06-18T20:01:23.631344Z",
     "iopub.status.busy": "2021-06-18T20:01:23.630436Z",
     "iopub.status.idle": "2021-06-18T20:01:23.639680Z",
     "shell.execute_reply": "2021-06-18T20:01:23.638883Z"
    }
   },
   "outputs": [],
   "source": [
    "sim = sd.SimDir(\"../../tests/tov\")"
   ]
  },
  {
   "cell_type": "markdown",
   "metadata": {},
   "source": [
    "We can get an overview of what is available by printing `sim`:"
   ]
  },
  {
   "cell_type": "code",
   "execution_count": 3,
   "metadata": {
    "execution": {
     "iopub.execute_input": "2021-06-18T20:01:23.643369Z",
     "iopub.status.busy": "2021-06-18T20:01:23.642882Z",
     "iopub.status.idle": "2021-06-18T20:01:23.767868Z",
     "shell.execute_reply": "2021-06-18T20:01:23.767395Z"
    }
   },
   "outputs": [
    {
     "name": "stdout",
     "output_type": "stream",
     "text": [
      "Indexed 446 files and 5 subdirectories\n",
      "Folder /home/runner/work/kuibit/kuibit/tests/tov\n",
      "Available scalar timeseries:\n",
      "['physical_time_per_hour', 'current_physical_time_per_hour', 'time_total', 'time_evolution', 'time_computing', 'time_communicating', 'time_io', 'evolution_steps_count', 'local_grid_points_per_second', 'total_grid_points_per_second', 'local_grid_point_updates_count', 'total_grid_point_updates_count', 'local_interior_points_per_second', 'total_interior_points_per_second', 'local_interior_point_updates_count', 'total_interior_point_updates_count', 'io_per_second', 'io_bytes_per_second', 'io_bytes_ascii_per_second', 'io_bytes_binary_per_second', 'io_count', 'io_bytes_count', 'io_bytes_ascii_count', 'io_bytes_binary_count', 'comm_per_second', 'comm_bytes_per_second', 'comm_count', 'comm_bytes_count', 'time_levels']\n",
      "\n",
      "Available minimum timeseries:\n",
      "['M1', 'M2', 'M3', 'press', 'vel[0]', 'vel[1]', 'vel[2]', 'eps', 'kxx', 'kxy', 'kxz', 'kyy', 'kyz', 'kzz', 'rho', 'H', 'alp', 'gxx', 'gxy', 'gxz', 'gyy', 'gyz', 'gzz']\n",
      "\n",
      "Available maximum timeseries:\n",
      "['press', 'kxx', 'kxy', 'kxz', 'kyy', 'kyz', 'kzz', 'H', 'eps', 'alp', 'gxx', 'gxy', 'gxz', 'gyy', 'gyz', 'gzz', 'M1', 'M2', 'M3', 'vel[0]', 'rho', 'vel[1]', 'vel[2]']\n",
      "\n",
      "Available norm1 timeseries:\n",
      "['vel[0]', 'vel[1]', 'vel[2]', 'kxx', 'kxy', 'kxz', 'kyy', 'kyz', 'kzz', 'alp', 'H', 'eps', 'gxx', 'gxy', 'gxz', 'gyy', 'gyz', 'gzz', 'M1', 'M2', 'M3', 'rho', 'press']\n",
      "\n",
      "Available norm2 timeseries:\n",
      "['M1', 'M2', 'M3', 'alp', 'eps', 'rho', 'gxx', 'gxy', 'gxz', 'gyy', 'gyz', 'gzz', 'press', 'kxx', 'kxy', 'kxz', 'kyy', 'kyz', 'kzz', 'H', 'vel[0]', 'vel[1]', 'vel[2]']\n",
      "\n",
      "Available average timeseries:\n",
      "['gxx', 'gxy', 'gxz', 'gyy', 'gyz', 'gzz', 'H', 'kxx', 'kxy', 'kxz', 'kyy', 'kyz', 'kzz', 'alp', 'press', 'eps', 'vel[0]', 'vel[1]', 'vel[2]', 'M1', 'M2', 'M3', 'rho']\n",
      "\n",
      "Variables available: dict_keys(['harmonic', 'psi4', 'phi2'])\n",
      "For variable harmonic:\n",
      "\n",
      "Avilable radii: [4.0, 8.0]\n",
      "\n",
      "At radius 4.0, (l, m) available: dict_keys([(0, 0), (1, -1), (1, 0), (1, 1), (2, -1), (2, -2), (2, 0), (2, 1), (2, 2)])\n",
      "At radius 8.0, (l, m) available: dict_keys([(0, 0), (1, -1), (1, 0), (1, 1), (2, -1), (2, -2), (2, 0), (2, 1), (2, 2)])\n",
      "\n",
      "For variable psi4:\n",
      "\n",
      "Avilable radii: [53.96, 60.13, 77.93, 191.0, 91.46, 48.95, 44.78, 140.16, 110.69, 67.88]\n",
      "\n",
      "At radius 44.78, (l, m) available: dict_keys([(2, 0), (2, -1), (2, 2), (2, -2), (2, 1)]) (missing: [(1, 0), (0, 0), (1, -1), (1, 1)])\n",
      "At radius 48.95, (l, m) available: dict_keys([(2, -1), (2, 2), (2, -2), (2, 0), (2, 1)]) (missing: [(1, 0), (0, 0), (1, -1), (1, 1)])\n",
      "At radius 53.96, (l, m) available: dict_keys([(2, 0), (2, -1), (2, 1), (2, -2), (2, 2)]) (missing: [(1, 0), (0, 0), (1, -1), (1, 1)])\n",
      "At radius 60.13, (l, m) available: dict_keys([(2, 0), (2, 1), (2, 2), (2, -1), (2, -2)]) (missing: [(1, 0), (0, 0), (1, -1), (1, 1)])\n",
      "At radius 67.88, (l, m) available: dict_keys([(2, 0), (2, -1), (2, -2), (2, 1), (2, 2)]) (missing: [(1, 0), (0, 0), (1, -1), (1, 1)])\n",
      "At radius 77.93, (l, m) available: dict_keys([(2, -1), (2, 2), (2, 1), (2, 0), (2, -2)]) (missing: [(1, 0), (0, 0), (1, -1), (1, 1)])\n",
      "At radius 91.46, (l, m) available: dict_keys([(2, -1), (2, 2), (2, -2), (2, 0), (2, 1)]) (missing: [(1, 0), (0, 0), (1, -1), (1, 1)])\n",
      "At radius 110.69, (l, m) available: dict_keys([(2, 0), (2, 2), (2, 1), (2, -2), (2, -1)]) (missing: [(1, 0), (0, 0), (1, -1), (1, 1)])\n",
      "At radius 140.16, (l, m) available: dict_keys([(2, -1), (2, -2), (2, 1), (2, 0), (2, 2)]) (missing: [(1, 0), (0, 0), (1, -1), (1, 1)])\n",
      "At radius 191.0, (l, m) available: dict_keys([(2, 1), (2, -2), (2, 0), (2, 2), (2, -1)]) (missing: [(1, 0), (0, 0), (1, -1), (1, 1)])\n",
      "\n",
      "For variable phi2:\n",
      "\n",
      "Avilable radii: [91.46, 48.95, 77.93, 60.13, 53.96, 67.88, 110.69, 44.78, 140.16, 191.0]\n",
      "\n",
      "At radius 44.78, (l, m) available: dict_keys([(2, -2), (2, -1), (2, 1), (2, 0), (2, 2)]) (missing: [(1, 0), (0, 0), (1, -1), (1, 1)])\n",
      "At radius 48.95, (l, m) available: dict_keys([(2, -2), (2, 0), (2, -1), (2, 2), (2, 1)]) (missing: [(1, 0), (0, 0), (1, -1), (1, 1)])\n",
      "At radius 53.96, (l, m) available: dict_keys([(2, -2), (2, 0), (2, 2), (2, -1), (2, 1)]) (missing: [(1, 0), (0, 0), (1, -1), (1, 1)])\n",
      "At radius 60.13, (l, m) available: dict_keys([(2, -2), (2, 0), (2, 2), (2, -1), (2, 1)]) (missing: [(1, 0), (0, 0), (1, -1), (1, 1)])\n",
      "At radius 67.88, (l, m) available: dict_keys([(2, 2), (2, 1), (2, -2), (2, 0), (2, -1)]) (missing: [(1, 0), (0, 0), (1, -1), (1, 1)])\n",
      "At radius 77.93, (l, m) available: dict_keys([(2, -1), (2, 0), (2, 1), (2, 2), (2, -2)]) (missing: [(1, 0), (0, 0), (1, -1), (1, 1)])\n",
      "At radius 91.46, (l, m) available: dict_keys([(2, 0), (2, -1), (2, -2), (2, 1), (2, 2)]) (missing: [(1, 0), (0, 0), (1, -1), (1, 1)])\n",
      "At radius 110.69, (l, m) available: dict_keys([(2, -2), (2, 2), (2, 0), (2, -1), (2, 1)]) (missing: [(1, 0), (0, 0), (1, -1), (1, 1)])\n",
      "At radius 140.16, (l, m) available: dict_keys([(2, 2), (2, 1), (2, -2), (2, 0), (2, -1)]) (missing: [(1, 0), (0, 0), (1, -1), (1, 1)])\n",
      "At radius 191.0, (l, m) available: dict_keys([(2, 1), (2, -1), (2, -2), (2, 0), (2, 2)]) (missing: [(1, 0), (0, 0), (1, -1), (1, 1)])\n",
      "\n",
      "Available gravitational wave dataAvailable electromagnetic wave data\n",
      "Available grid data of dimension 1D (x): \n",
      "['alp', 'H', 'vel[0]', 'vel[1]', 'vel[2]', 'gxx', 'gxy', 'gxz', 'gyy', 'gyz', 'gzz', 'kxx', 'kxy', 'kxz', 'kyy', 'kyz', 'kzz', 'M1', 'M2', 'M3', 'eps', 'press', 'rho']\n",
      "\n",
      "\n",
      "Available grid data of dimension 1D (y): \n",
      "['rho', 'M1', 'M2', 'M3', 'gxx', 'gxy', 'gxz', 'gyy', 'gyz', 'gzz', 'H', 'press', 'vel[0]', 'vel[1]', 'vel[2]', 'eps', 'alp', 'kxx', 'kxy', 'kxz', 'kyy', 'kyz', 'kzz']\n",
      "\n",
      "\n",
      "Available grid data of dimension 1D (z): \n",
      "['alp', 'press', 'rho', 'gxx', 'gxy', 'gxz', 'gyy', 'gyz', 'gzz', 'kxx', 'kxy', 'kxz', 'kyy', 'kyz', 'kzz', 'H', 'M1', 'M2', 'M3', 'vel[0]', 'vel[1]', 'vel[2]', 'eps']\n",
      "\n",
      "\n",
      "Available grid data of dimension 2D (xy): \n",
      "['vel[2]', 'vel[1]', 'vel[0]', 'rho']\n",
      "\n",
      "\n",
      "Available grid data of dimension 2D (xz): \n",
      "['vel[0]', 'rho', 'vel[2]', 'vel[1]']\n",
      "\n",
      "\n",
      "Available grid data of dimension 2D (yz): \n",
      "['vel[2]', 'rho', 'vel[1]', 'vel[0]']\n",
      "\n",
      "\n",
      "Available grid data of dimension 3D (xyz): \n",
      "['vel[2]', 'mp_harmonic', 'vel[0]', 'vel[1]', 'rho']\n",
      "No horizon found\n"
     ]
    }
   ],
   "source": [
    "print(sim)"
   ]
  },
  {
   "cell_type": "markdown",
   "metadata": {},
   "source": [
    "This is a long output because we have a lot of available data! Everything that is printed is the output is easily accessible through `SimDir`. Moreover, the loading of data is lazy and the result is cached: computations are done only when needed, and all the subsequent calls will be immediate.\n",
    "\n",
    "If you have thorns with custom output, you have to extend `kuibit` to analyze them. `SimDir` has multiple submodules to handle the different kind of data. Let us explore them."
   ]
  },
  {
   "cell_type": "markdown",
   "metadata": {},
   "source": [
    "## SimDir and pickles"
   ]
  },
  {
   "cell_type": "markdown",
   "metadata": {},
   "source": [
    "`SimDir` performs some operations only when they needed. This work has be done every time the Python interpreter is killed. In some cases, it is useful to save the progress to files, resulting in faster execution times. This can be done with pickles. The simplest way to do so is as follows."
   ]
  },
  {
   "cell_type": "code",
   "execution_count": 4,
   "metadata": {
    "execution": {
     "iopub.execute_input": "2021-06-18T20:01:23.772110Z",
     "iopub.status.busy": "2021-06-18T20:01:23.771402Z",
     "iopub.status.idle": "2021-06-18T20:01:23.783226Z",
     "shell.execute_reply": "2021-06-18T20:01:23.783629Z"
    }
   },
   "outputs": [
    {
     "name": "stdout",
     "output_type": "stream",
     "text": [
      "Indexed 446 files and 5 subdirectories\n",
      "Folder /home/runner/work/kuibit/kuibit/tests/tov\n",
      "Available scalar timeseries:\n",
      "['physical_time_per_hour', 'current_physical_time_per_hour', 'time_total', 'time_evolution', 'time_computing', 'time_communicating', 'time_io', 'evolution_steps_count', 'local_grid_points_per_second', 'total_grid_points_per_second', 'local_grid_point_updates_count', 'total_grid_point_updates_count', 'local_interior_points_per_second', 'total_interior_points_per_second', 'local_interior_point_updates_count', 'total_interior_point_updates_count', 'io_per_second', 'io_bytes_per_second', 'io_bytes_ascii_per_second', 'io_bytes_binary_per_second', 'io_count', 'io_bytes_count', 'io_bytes_ascii_count', 'io_bytes_binary_count', 'comm_per_second', 'comm_bytes_per_second', 'comm_count', 'comm_bytes_count', 'time_levels']\n",
      "\n",
      "Available minimum timeseries:\n",
      "['M1', 'M2', 'M3', 'press', 'vel[0]', 'vel[1]', 'vel[2]', 'eps', 'kxx', 'kxy', 'kxz', 'kyy', 'kyz', 'kzz', 'rho', 'H', 'alp', 'gxx', 'gxy', 'gxz', 'gyy', 'gyz', 'gzz']\n",
      "\n",
      "Available maximum timeseries:\n",
      "['press', 'kxx', 'kxy', 'kxz', 'kyy', 'kyz', 'kzz', 'H', 'eps', 'alp', 'gxx', 'gxy', 'gxz', 'gyy', 'gyz', 'gzz', 'M1', 'M2', 'M3', 'vel[0]', 'rho', 'vel[1]', 'vel[2]']\n",
      "\n",
      "Available norm1 timeseries:\n",
      "['vel[0]', 'vel[1]', 'vel[2]', 'kxx', 'kxy', 'kxz', 'kyy', 'kyz', 'kzz', 'alp', 'H', 'eps', 'gxx', 'gxy', 'gxz', 'gyy', 'gyz', 'gzz', 'M1', 'M2', 'M3', 'rho', 'press']\n",
      "\n",
      "Available norm2 timeseries:\n",
      "['M1', 'M2', 'M3', 'alp', 'eps', 'rho', 'gxx', 'gxy', 'gxz', 'gyy', 'gyz', 'gzz', 'press', 'kxx', 'kxy', 'kxz', 'kyy', 'kyz', 'kzz', 'H', 'vel[0]', 'vel[1]', 'vel[2]']\n",
      "\n",
      "Available average timeseries:\n",
      "['gxx', 'gxy', 'gxz', 'gyy', 'gyz', 'gzz', 'H', 'kxx', 'kxy', 'kxz', 'kyy', 'kyz', 'kzz', 'alp', 'press', 'eps', 'vel[0]', 'vel[1]', 'vel[2]', 'M1', 'M2', 'M3', 'rho']\n",
      "\n",
      "Variables available: dict_keys(['harmonic', 'psi4', 'phi2'])\n",
      "For variable harmonic:\n",
      "\n",
      "Avilable radii: [4.0, 8.0]\n",
      "\n",
      "At radius 4.0, (l, m) available: dict_keys([(0, 0), (1, -1), (1, 0), (1, 1), (2, -1), (2, -2), (2, 0), (2, 1), (2, 2)])\n",
      "At radius 8.0, (l, m) available: dict_keys([(0, 0), (1, -1), (1, 0), (1, 1), (2, -1), (2, -2), (2, 0), (2, 1), (2, 2)])\n",
      "\n",
      "For variable psi4:\n",
      "\n",
      "Avilable radii: [53.96, 60.13, 77.93, 191.0, 91.46, 48.95, 44.78, 140.16, 110.69, 67.88]\n",
      "\n",
      "At radius 44.78, (l, m) available: dict_keys([(2, 0), (2, -1), (2, 2), (2, -2), (2, 1)]) (missing: [(1, 0), (0, 0), (1, -1), (1, 1)])\n",
      "At radius 48.95, (l, m) available: dict_keys([(2, -1), (2, 2), (2, -2), (2, 0), (2, 1)]) (missing: [(1, 0), (0, 0), (1, -1), (1, 1)])\n",
      "At radius 53.96, (l, m) available: dict_keys([(2, 0), (2, -1), (2, 1), (2, -2), (2, 2)]) (missing: [(1, 0), (0, 0), (1, -1), (1, 1)])\n",
      "At radius 60.13, (l, m) available: dict_keys([(2, 0), (2, 1), (2, 2), (2, -1), (2, -2)]) (missing: [(1, 0), (0, 0), (1, -1), (1, 1)])\n",
      "At radius 67.88, (l, m) available: dict_keys([(2, 0), (2, -1), (2, -2), (2, 1), (2, 2)]) (missing: [(1, 0), (0, 0), (1, -1), (1, 1)])\n",
      "At radius 77.93, (l, m) available: dict_keys([(2, -1), (2, 2), (2, 1), (2, 0), (2, -2)]) (missing: [(1, 0), (0, 0), (1, -1), (1, 1)])\n",
      "At radius 91.46, (l, m) available: dict_keys([(2, -1), (2, 2), (2, -2), (2, 0), (2, 1)]) (missing: [(1, 0), (0, 0), (1, -1), (1, 1)])\n",
      "At radius 110.69, (l, m) available: dict_keys([(2, 0), (2, 2), (2, 1), (2, -2), (2, -1)]) (missing: [(1, 0), (0, 0), (1, -1), (1, 1)])\n",
      "At radius 140.16, (l, m) available: dict_keys([(2, -1), (2, -2), (2, 1), (2, 0), (2, 2)]) (missing: [(1, 0), (0, 0), (1, -1), (1, 1)])\n",
      "At radius 191.0, (l, m) available: dict_keys([(2, 1), (2, -2), (2, 0), (2, 2), (2, -1)]) (missing: [(1, 0), (0, 0), (1, -1), (1, 1)])\n",
      "\n",
      "For variable phi2:\n",
      "\n",
      "Avilable radii: [91.46, 48.95, 77.93, 60.13, 53.96, 67.88, 110.69, 44.78, 140.16, 191.0]\n",
      "\n",
      "At radius 44.78, (l, m) available: dict_keys([(2, -2), (2, -1), (2, 1), (2, 0), (2, 2)]) (missing: [(1, 0), (0, 0), (1, -1), (1, 1)])\n",
      "At radius 48.95, (l, m) available: dict_keys([(2, -2), (2, 0), (2, -1), (2, 2), (2, 1)]) (missing: [(1, 0), (0, 0), (1, -1), (1, 1)])\n",
      "At radius 53.96, (l, m) available: dict_keys([(2, -2), (2, 0), (2, 2), (2, -1), (2, 1)]) (missing: [(1, 0), (0, 0), (1, -1), (1, 1)])\n",
      "At radius 60.13, (l, m) available: dict_keys([(2, -2), (2, 0), (2, 2), (2, -1), (2, 1)]) (missing: [(1, 0), (0, 0), (1, -1), (1, 1)])\n",
      "At radius 67.88, (l, m) available: dict_keys([(2, 2), (2, 1), (2, -2), (2, 0), (2, -1)]) (missing: [(1, 0), (0, 0), (1, -1), (1, 1)])\n",
      "At radius 77.93, (l, m) available: dict_keys([(2, -1), (2, 0), (2, 1), (2, 2), (2, -2)]) (missing: [(1, 0), (0, 0), (1, -1), (1, 1)])\n",
      "At radius 91.46, (l, m) available: dict_keys([(2, 0), (2, -1), (2, -2), (2, 1), (2, 2)]) (missing: [(1, 0), (0, 0), (1, -1), (1, 1)])\n",
      "At radius 110.69, (l, m) available: dict_keys([(2, -2), (2, 2), (2, 0), (2, -1), (2, 1)]) (missing: [(1, 0), (0, 0), (1, -1), (1, 1)])\n",
      "At radius 140.16, (l, m) available: dict_keys([(2, 2), (2, 1), (2, -2), (2, 0), (2, -1)]) (missing: [(1, 0), (0, 0), (1, -1), (1, 1)])\n",
      "At radius 191.0, (l, m) available: dict_keys([(2, 1), (2, -1), (2, -2), (2, 0), (2, 2)]) (missing: [(1, 0), (0, 0), (1, -1), (1, 1)])\n",
      "\n",
      "Available gravitational wave dataAvailable electromagnetic wave data\n",
      "Available grid data of dimension 1D (x): \n",
      "['alp', 'H', 'vel[0]', 'vel[1]', 'vel[2]', 'gxx', 'gxy', 'gxz', 'gyy', 'gyz', 'gzz', 'kxx', 'kxy', 'kxz', 'kyy', 'kyz', 'kzz', 'M1', 'M2', 'M3', 'eps', 'press', 'rho']\n",
      "\n",
      "\n",
      "Available grid data of dimension 1D (y): \n",
      "['rho', 'M1', 'M2', 'M3', 'gxx', 'gxy', 'gxz', 'gyy', 'gyz', 'gzz', 'H', 'press', 'vel[0]', 'vel[1]', 'vel[2]', 'eps', 'alp', 'kxx', 'kxy', 'kxz', 'kyy', 'kyz', 'kzz']\n",
      "\n",
      "\n",
      "Available grid data of dimension 1D (z): \n",
      "['alp', 'press', 'rho', 'gxx', 'gxy', 'gxz', 'gyy', 'gyz', 'gzz', 'kxx', 'kxy', 'kxz', 'kyy', 'kyz', 'kzz', 'H', 'M1', 'M2', 'M3', 'vel[0]', 'vel[1]', 'vel[2]', 'eps']\n",
      "\n",
      "\n",
      "Available grid data of dimension 2D (xy): \n",
      "['vel[2]', 'vel[1]', 'vel[0]', 'rho']\n",
      "\n",
      "\n",
      "Available grid data of dimension 2D (xz): \n",
      "['vel[0]', 'rho', 'vel[2]', 'vel[1]']\n",
      "\n",
      "\n",
      "Available grid data of dimension 2D (yz): \n",
      "['vel[2]', 'rho', 'vel[1]', 'vel[0]']\n",
      "\n",
      "\n",
      "Available grid data of dimension 3D (xyz): \n",
      "['vel[2]', 'mp_harmonic', 'vel[0]', 'vel[1]', 'rho']\n",
      "No horizon found\n"
     ]
    }
   ],
   "source": [
    "with sd.SimDir(\"../../tests/tov\", pickle_file=\"/tmp/sim.pickle\"):\n",
    "    print(sim)"
   ]
  },
  {
   "cell_type": "markdown",
   "metadata": {},
   "source": [
    "When this code is run, `kuibit` checks if a pickle file exists in `/tmp/sim.pickle`. If yes, it will load it, effectively \"resuming a previous session\". At the end of the `with` block, the file is updated with the new work done. If the file did not exist initially, it will be created.\n",
    "\n",
    "It is important to be careful when working with pickles as the risk of stale objects is high. If the data is changing (e.g., new restarts are added), it is likely that it will result in errors. "
   ]
  },
  {
   "cell_type": "markdown",
   "metadata": {},
   "source": [
    "## Cactus_scalars\n",
    "The [cactus_scalars](../cactus_scalars.rst) module understands ASCII files as output by CarpetASCII. It supports all the reductions (maximum, minimum, ...), 0d files, as well as scalar data. Using regular expression on the header of the file, `cactus_scalars` can process one variable per file and multiple variables per file. In `SimDir`, you can access scalars with the `ts` or `timeseries` attributes. "
   ]
  },
  {
   "cell_type": "code",
   "execution_count": 5,
   "metadata": {
    "execution": {
     "iopub.execute_input": "2021-06-18T20:01:23.787335Z",
     "iopub.status.busy": "2021-06-18T20:01:23.786856Z",
     "iopub.status.idle": "2021-06-18T20:01:23.790073Z",
     "shell.execute_reply": "2021-06-18T20:01:23.789613Z"
    }
   },
   "outputs": [],
   "source": [
    "timeseries = sim.ts\n",
    "# equivalent: timeseries = sim.timeseries"
   ]
  },
  {
   "cell_type": "markdown",
   "metadata": {},
   "source": [
    "If we printed `timeseries`, we would find part of the output from `SimDir`. This is because the printed output from `SimDir` is obtained printing all the different submodules. Another way to see the available variable for a secific reduction is with the `keys` method:"
   ]
  },
  {
   "cell_type": "code",
   "execution_count": 6,
   "metadata": {
    "execution": {
     "iopub.execute_input": "2021-06-18T20:01:23.798229Z",
     "iopub.status.busy": "2021-06-18T20:01:23.797215Z",
     "iopub.status.idle": "2021-06-18T20:01:23.802039Z",
     "shell.execute_reply": "2021-06-18T20:01:23.802441Z"
    }
   },
   "outputs": [
    {
     "data": {
      "text/plain": [
       "dict_keys(['press', 'kxx', 'kxy', 'kxz', 'kyy', 'kyz', 'kzz', 'H', 'eps', 'alp', 'gxx', 'gxy', 'gxz', 'gyy', 'gyz', 'gzz', 'M1', 'M2', 'M3', 'vel[0]', 'rho', 'vel[1]', 'vel[2]'])"
      ]
     },
     "execution_count": 1,
     "metadata": {},
     "output_type": "execute_result"
    }
   ],
   "source": [
    "timeseries.maximum.keys()"
   ]
  },
  {
   "cell_type": "markdown",
   "metadata": {},
   "source": [
    "There are equivalent three different way to access those variables as [timeseries](../series.rst)."
   ]
  },
  {
   "cell_type": "code",
   "execution_count": 7,
   "metadata": {
    "execution": {
     "iopub.execute_input": "2021-06-18T20:01:23.807314Z",
     "iopub.status.busy": "2021-06-18T20:01:23.805853Z",
     "iopub.status.idle": "2021-06-18T20:01:23.809865Z",
     "shell.execute_reply": "2021-06-18T20:01:23.808938Z"
    }
   },
   "outputs": [],
   "source": [
    "rho_max1 = timeseries.maximum.fields.rho\n",
    "rho_max2 = timeseries.maximum['rho']\n",
    "rho_max3 = timeseries.maximum.get('rho')"
   ]
  },
  {
   "cell_type": "markdown",
   "metadata": {},
   "source": [
    "These objects are [timeseries](../series.rst), which are extremely convienent representation of data evolving in time. These series span multiple simulation restarts and have files in different folders: `kuibit` does all the hard work to find the files and combine them. Moreover, they `timeseries` have a lot of features, as you can see in the [timeseries tutorial](timeseries.ipynb)."
   ]
  }
 ],
 "metadata": {
  "kernelspec": {
   "display_name": "Python 3",
   "language": "python",
   "name": "python3"
  },
  "language_info": {
   "codemirror_mode": {
    "name": "ipython",
    "version": 3
   },
   "file_extension": ".py",
   "mimetype": "text/x-python",
   "name": "python",
   "nbconvert_exporter": "python",
   "pygments_lexer": "ipython3",
   "version": "3.7.10"
  }
 },
 "nbformat": 4,
 "nbformat_minor": 4
}
